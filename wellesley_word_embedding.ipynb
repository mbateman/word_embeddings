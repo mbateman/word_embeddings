{
 "cells": [
  {
   "cell_type": "code",
   "execution_count": 15,
   "metadata": {},
   "outputs": [],
   "source": [
    "import warnings\n",
    "import PyPDF2\n",
    "import textract\n",
    "import nltk, re, pprint\n",
    "from nltk.tokenize import word_tokenize\n",
    "from nltk.corpus import stopwords\n",
    "from collections import Counter\n",
    "from gensim.models import Word2Vec\n",
    "from matplotlib import pyplot\n",
    "warnings.filterwarnings('ignore')\n",
    "warnings.simplefilter('ignore')"
   ]
  },
  {
   "cell_type": "code",
   "execution_count": 226,
   "metadata": {},
   "outputs": [
    {
     "name": "stdout",
     "output_type": "stream",
     "text": [
      "/Users/michael/miniconda3/envs/nlpiaenv/bin/python\r\n"
     ]
    }
   ],
   "source": [
    "!which python"
   ]
  },
  {
   "cell_type": "code",
   "execution_count": 16,
   "metadata": {},
   "outputs": [],
   "source": [
    "CVA_proposal = '/Users/michael/Accounts/Wellesley/CVA-Proposal.pdf'"
   ]
  },
  {
   "cell_type": "code",
   "execution_count": null,
   "metadata": {},
   "outputs": [],
   "source": [
    "# cva_text = textract.process(CVA_proposal).decode()"
   ]
  },
  {
   "cell_type": "code",
   "execution_count": 17,
   "metadata": {},
   "outputs": [],
   "source": [
    "cvafile = '/Users/michael/Accounts/Wellesley/CVA-Proposal.txt'\n",
    "file = open(cvafile, 'r')\n",
    "cva_text = file.read()"
   ]
  },
  {
   "cell_type": "code",
   "execution_count": 18,
   "metadata": {},
   "outputs": [
    {
     "data": {
      "text/plain": [
       "'THIS DOCUMENT IS IMPORTANT AND REQUIRES YOUR IMMEDIATE ATTENTION. If you are in \\nany doubt as to the'"
      ]
     },
     "execution_count": 18,
     "metadata": {},
     "output_type": "execute_result"
    }
   ],
   "source": [
    "cva_text[:100]"
   ]
  },
  {
   "cell_type": "code",
   "execution_count": 26,
   "metadata": {},
   "outputs": [],
   "source": [
    "def chomp(x):\n",
    "    if x.endswith(\"\\r\\n\"): return x[:-2]\n",
    "    if x.endswith(\"\\n\") or x.endswith(\"\\r\"): return x[:-1]\n",
    "    return x"
   ]
  },
  {
   "cell_type": "code",
   "execution_count": 27,
   "metadata": {},
   "outputs": [],
   "source": [
    "def tokenize(text):\n",
    "    r = re.compile(r\"\\.?\\d*.\\d*.\\d*\\.?\\b\")\n",
    "    text = re.sub(r'-\\n(\\w+ *)', r'\\1', text)\n",
    "    punctuation = ['(',')',';',':','[',']',',', '-', '/']\n",
    "    stop_words = stopwords.words('english')\n",
    "    non_words = ['...', '..', '.']\n",
    "    tokens = word_tokenize(text)\n",
    "    keywords = [word.lower() for word in tokens \n",
    "                if not word in stop_words \n",
    "                and not word in punctuation \n",
    "                and word not in non_words\n",
    "                and not r.match(word)\n",
    "                and not word.startswith('................')                \n",
    "                and len(word) > 3]\n",
    "    return keywords"
   ]
  },
  {
   "cell_type": "code",
   "execution_count": 28,
   "metadata": {},
   "outputs": [],
   "source": [
    "def join_split_words(text):\n",
    "    return re.sub(r'-\\n(\\w+ *)', r'\\1', text)"
   ]
  },
  {
   "cell_type": "code",
   "execution_count": 129,
   "metadata": {},
   "outputs": [
    {
     "data": {
      "text/plain": [
       "1"
      ]
     },
     "execution_count": 129,
     "metadata": {},
     "output_type": "execute_result"
    }
   ],
   "source": [
    "len('and,'.split())"
   ]
  },
  {
   "cell_type": "code",
   "execution_count": 183,
   "metadata": {},
   "outputs": [],
   "source": [
    "def join_sentences(sentences):\n",
    "    for index, sentence in enumerate(sentences):\n",
    "        tokens = sentence.split()\n",
    "        if len(tokens) > 0 and len(tokens) < 6:\n",
    "            preceeding = sentences[index-1]\n",
    "            if len(preceeding.split()) == 0:\n",
    "                preceeding = sentences[index-2]\n",
    "            preceeding = preceeding + ' ' + sentence\n",
    "            sentences[index-1] = preceeding.strip()\n",
    "            sentences[index] = ''\n",
    "    sentences = [sen for sen in sentences if len(sen) > 0]\n",
    "    return sentences"
   ]
  },
  {
   "cell_type": "code",
   "execution_count": 131,
   "metadata": {},
   "outputs": [],
   "source": [
    "def clean_sentences(pageText):\n",
    "    punctuation = ['(',')',';',':','[',']',',', '-', '/']\n",
    "    stop_words = stopwords.words('english')\n",
    "    non_words = ['...', '..', '.', '']\n",
    "    r = re.compile(r\"\\.?\\d*.\\d*.\\d*\\.?\\b\")\n",
    "    pageText = join_split_words(pageText)\n",
    "    sentences = pageText.split('\\n')\n",
    "#     sentences = nltk.sent_tokenize(pageText)\n",
    "#     sentences = split_sentences(pageText)\n",
    "    sentences = [word for word in sentences if len(word.strip()) > 0]\n",
    "    cleanedSentences = [word.strip() for word in sentences \n",
    "                if not word in stop_words \n",
    "                and not word in punctuation \n",
    "                and word not in non_words\n",
    "                and not r.match(word)\n",
    "                and not word.startswith('................')\n",
    "                and len(word) > 3]\n",
    "    return cleanedSentences"
   ]
  },
  {
   "cell_type": "code",
   "execution_count": 199,
   "metadata": {},
   "outputs": [],
   "source": [
    "token_length = 8\n",
    "start = 0\n",
    "cva_pages = []\n",
    "indices = [m.start() for m in re.finditer('PRIN \\d\\/\\d', cva_text)]\n",
    "for index in indices:\n",
    "    cva_page = prin_text[start:index+token_length]\n",
    "    cva_pages.append(tokenize(prin_page))\n",
    "    start = index"
   ]
  },
  {
   "cell_type": "code",
   "execution_count": 27,
   "metadata": {},
   "outputs": [],
   "source": [
    "# len(prin_pages)"
   ]
  },
  {
   "cell_type": "code",
   "execution_count": 186,
   "metadata": {},
   "outputs": [],
   "source": [
    "cva_sentences = clean_sentences(cva_text)"
   ]
  },
  {
   "cell_type": "code",
   "execution_count": 200,
   "metadata": {},
   "outputs": [
    {
     "data": {
      "text/plain": [
       "['THIS DOCUMENT IS IMPORTANT AND REQUIRES YOUR IMMEDIATE ATTENTION. If you are in',\n",
       " 'any doubt as to the action you should take, you are recommended to seek your own independent',\n",
       " 'advice from a solicitor, or independent financial advice from an accountant or financial adviser.',\n",
       " 'This document does not constitute or form any part of any offer or invitation to sell or issue, or any',\n",
       " 'solicitation of any offer to acquire any Shares or other transferable securities in Wellesley Finance Plc',\n",
       " 'information is otherwise publicly available or use of any information it contains for any purpose other',\n",
       " 'than considering the resolutions, is prohibited. Wellesley Finance Plc (the “Company”)',\n",
       " 'than considering the resolutions, is prohibited. Wellesley Finance Plc (the “Company”) and',\n",
       " 'each of its CREDITORS (as defined herein) COMPANY VOLUNTARY ARRANGEMENT',\n",
       " '(under Part I of the Insolvency Act 1986 and Part II of the Insolvency (England and Wales) Rules 2016)']"
      ]
     },
     "execution_count": 200,
     "metadata": {},
     "output_type": "execute_result"
    }
   ],
   "source": [
    "cva_sentences[:10]"
   ]
  },
  {
   "cell_type": "code",
   "execution_count": 191,
   "metadata": {},
   "outputs": [],
   "source": [
    "cva_sentences = join_sentences(cva_sentences)"
   ]
  },
  {
   "cell_type": "code",
   "execution_count": 192,
   "metadata": {},
   "outputs": [
    {
     "data": {
      "text/plain": [
       "['THIS DOCUMENT IS IMPORTANT AND REQUIRES YOUR IMMEDIATE ATTENTION. If you are in',\n",
       " 'any doubt as to the action you should take, you are recommended to seek your own independent',\n",
       " 'advice from a solicitor, or independent financial advice from an accountant or financial adviser.',\n",
       " 'This document does not constitute or form any part of any offer or invitation to sell or issue, or any',\n",
       " 'solicitation of any offer to acquire any Shares or other transferable securities in Wellesley Finance Plc',\n",
       " 'information is otherwise publicly available or use of any information it contains for any purpose other',\n",
       " 'than considering the resolutions, is prohibited. Wellesley Finance Plc (the “Company”)',\n",
       " 'than considering the resolutions, is prohibited. Wellesley Finance Plc (the “Company”) and',\n",
       " 'each of its CREDITORS (as defined herein) COMPANY VOLUNTARY ARRANGEMENT',\n",
       " '(under Part I of the Insolvency Act 1986 and Part II of the Insolvency (England and Wales) Rules 2016)']"
      ]
     },
     "execution_count": 192,
     "metadata": {},
     "output_type": "execute_result"
    }
   ],
   "source": [
    "cva_sentences[:10]"
   ]
  },
  {
   "cell_type": "code",
   "execution_count": 193,
   "metadata": {},
   "outputs": [],
   "source": [
    "r = re.compile(r\"\\.?\\d*.\\d*.\\d*\\.?\\b\")\n",
    "tokens = word_tokenize(cva_text)\n",
    "punctuation = ['(',')',';',':','[',']',',', '-', '/']\n",
    "stop_words = stopwords.words('english')\n",
    "non_words = ['...', '..', '.']\n",
    "keywords = [word.lower() for word in tokens \n",
    "            if not word in stop_words \n",
    "            and not word in punctuation \n",
    "            and word not in non_words\n",
    "            and not r.match(word)\n",
    "            and not word.startswith('................')            \n",
    "            and len(word) > 3]"
   ]
  },
  {
   "cell_type": "code",
   "execution_count": 194,
   "metadata": {},
   "outputs": [
    {
     "name": "stdout",
     "output_type": "stream",
     "text": [
      "22177\n"
     ]
    },
    {
     "data": {
      "text/plain": [
       "['this',\n",
       " 'document',\n",
       " 'important',\n",
       " 'requires',\n",
       " 'your',\n",
       " 'immediate',\n",
       " 'attention',\n",
       " 'doubt',\n",
       " 'action',\n",
       " 'take']"
      ]
     },
     "execution_count": 194,
     "metadata": {},
     "output_type": "execute_result"
    }
   ],
   "source": [
    "print(len(keywords))\n",
    "keywords[:10]"
   ]
  },
  {
   "cell_type": "code",
   "execution_count": 195,
   "metadata": {},
   "outputs": [
    {
     "name": "stdout",
     "output_type": "stream",
     "text": [
      "2633\n"
     ]
    },
    {
     "data": {
      "text/plain": [
       "[('company', 830),\n",
       " ('creditors', 688),\n",
       " ('loan', 332),\n",
       " ('creditor', 311),\n",
       " ('proposal', 221),\n",
       " ('shall', 204),\n",
       " ('book', 199),\n",
       " ('supervisors', 176),\n",
       " ('claim', 165),\n",
       " ('loans', 164)]"
      ]
     },
     "execution_count": 195,
     "metadata": {},
     "output_type": "execute_result"
    }
   ],
   "source": [
    "counter = Counter(keywords)\n",
    "print(len(counter.items()))\n",
    "counter.most_common()[:10]"
   ]
  },
  {
   "cell_type": "code",
   "execution_count": 197,
   "metadata": {},
   "outputs": [
    {
     "data": {
      "text/plain": [
       "['this',\n",
       " 'document',\n",
       " 'important',\n",
       " 'requires',\n",
       " 'your',\n",
       " 'immediate',\n",
       " 'attention',\n",
       " 'doubt',\n",
       " 'action',\n",
       " 'take']"
      ]
     },
     "execution_count": 197,
     "metadata": {},
     "output_type": "execute_result"
    }
   ],
   "source": [
    "keywords[:10]"
   ]
  },
  {
   "cell_type": "code",
   "execution_count": 201,
   "metadata": {},
   "outputs": [],
   "source": [
    "nltk_text = nltk.Text(keywords)"
   ]
  },
  {
   "cell_type": "code",
   "execution_count": 202,
   "metadata": {},
   "outputs": [
    {
     "name": "stdout",
     "output_type": "stream",
     "text": [
      "<class 'nltk.text.Text'>\n",
      "22177\n"
     ]
    }
   ],
   "source": [
    "print(type(nltk_text))\n",
    "print(len(nltk_text))"
   ]
  },
  {
   "cell_type": "code",
   "execution_count": 203,
   "metadata": {},
   "outputs": [
    {
     "data": {
      "text/plain": [
       "<Text: this document important requires your immediate attention doubt...>"
      ]
     },
     "execution_count": 203,
     "metadata": {},
     "output_type": "execute_result"
    }
   ],
   "source": [
    "nltk_text"
   ]
  },
  {
   "cell_type": "code",
   "execution_count": 204,
   "metadata": {},
   "outputs": [
    {
     "name": "stdout",
     "output_type": "stream",
     "text": [
      "loan book; preferred shares; book sale; year year; bond documentation;\n",
      "payment fund; duff phelps; months months; decision procedure;\n",
      "effective date; voluntary arrangement; listed bondholders; third\n",
      "party; allowed claim; security trustee; compromised creditors;\n",
      "insolvency rules; wellesley finance; election period; amount\n",
      "equivalent\n"
     ]
    }
   ],
   "source": [
    "nltk_text.collocations()"
   ]
  },
  {
   "cell_type": "code",
   "execution_count": 205,
   "metadata": {},
   "outputs": [
    {
     "name": "stdout",
     "output_type": "stream",
     "text": [
      "Displaying 25 of 86 matches:\n",
      "process loan book ultimately sold cloverleaf terms loan book sale provide sale\n",
      "ce terms security trust agreement cloverleaf purchaser loans investment capita\n",
      "d sell listed bond interest loans cloverleaf therefore considered contingent c\n",
      "ect sell creditors interest loans cloverleaf proceeded notwithstanding directi\n",
      "ntra-group related entities given cloverleaf subsidiary within group restricti\n",
      "achieved including minimum profit cloverleaf loans comparative basis offers re\n",
      " deferred consideration debenture cloverleaf including charge bank account loa\n",
      "ccount loans repaid charge shares cloverleaf company negative pledge cloverlea\n",
      "loverleaf company negative pledge cloverleaf debenture parent guarantee compan\n",
      "pany preferred bidder transaction cloverleaf offered highest price loan book a\n",
      "y incorporated subsidiary company cloverleaf need undertake protracted period \n",
      "ntinuity borrowers loan servicing cloverleaf included undertaking would vary o\n",
      "ing following diligence loan book cloverleaf also ready able transact quickly \n",
      "ted consequence selling loan book cloverleaf company confident loans managed f\n",
      "ting complex investment structure cloverleaf aware potential future challenge \n",
      "al future challenges terms agreed cloverleaf sale completed september consider\n",
      "ments obtained debenture security cloverleaf secures payment obligations part \n",
      "any also granted guarantee secure cloverleaf obligations charge shares cloverl\n",
      "verleaf obligations charge shares cloverleaf terms guarantee survive proposal \n",
      " continue service loan book agent cloverleaf fees receives service annum paid \n",
      "ure interests parties transferred cloverleaf including interests creditors cre\n",
      "ld group purpose section includes cloverleaf undertaking take various steps wi\n",
      "pany such steps include following cloverleaf limited solely holds investment w\n",
      "purchase this legal entity closed cloverleaf limited solely holds investment u\n",
      "ermediate holding company company cloverleaf main trading subsidiaries wbcl wo\n"
     ]
    }
   ],
   "source": [
    "nltk_text.concordance('Cloverleaf')"
   ]
  },
  {
   "cell_type": "code",
   "execution_count": 206,
   "metadata": {},
   "outputs": [],
   "source": [
    "fdist = nltk.FreqDist(keywords)"
   ]
  },
  {
   "cell_type": "code",
   "execution_count": 207,
   "metadata": {},
   "outputs": [
    {
     "data": {
      "text/plain": [
       "[('reduce', 1),\n",
       " ('served', 1),\n",
       " ('vacate', 1),\n",
       " ('occupation', 1),\n",
       " ('serviced', 1),\n",
       " ('showing', 1),\n",
       " ('forecasts', 1),\n",
       " ('owing', 1),\n",
       " ('line', 1),\n",
       " ('overleaf', 1)]"
      ]
     },
     "execution_count": 207,
     "metadata": {},
     "output_type": "execute_result"
    }
   ],
   "source": [
    "fdist.most_common()[-10:]"
   ]
  },
  {
   "cell_type": "code",
   "execution_count": 208,
   "metadata": {},
   "outputs": [
    {
     "data": {
      "text/plain": [
       "[('company', 830),\n",
       " ('creditors', 688),\n",
       " ('loan', 332),\n",
       " ('creditor', 311),\n",
       " ('proposal', 221),\n",
       " ('shall', 204),\n",
       " ('book', 199),\n",
       " ('supervisors', 176),\n",
       " ('claim', 165),\n",
       " ('loans', 164)]"
      ]
     },
     "execution_count": 208,
     "metadata": {},
     "output_type": "execute_result"
    }
   ],
   "source": [
    "fdist.most_common(10)"
   ]
  },
  {
   "cell_type": "code",
   "execution_count": 209,
   "metadata": {},
   "outputs": [
    {
     "name": "stdout",
     "output_type": "stream",
     "text": [
      "*administrative -> 2; *excludes -> 2; /surplus -> 5; ability -> 9; able -> 34; abovementioned -> 1; abrogated -> 1; absence -> 3; absolute -> 5; absolutely -> 2; abstract -> 1; accept -> 2; acceptance -> 4; accepted -> 13; accepting -> 2; accepts -> 2; access -> 14; accompanied -> 3; accordance -> 90; according -> 4; accordingly -> 18; account -> 31; accountant -> 6; accountants -> 1; accounting -> 1; accounts -> 6; accruals -> 5; accrued -> 6; accuracy -> 2; accurately -> 2; accustomed -> 1; achievable -> 1; achieve -> 12; achieved -> 9; acknowledgements -> 1; acknowledges -> 2; acquire -> 2; acquired -> 5; acquiring -> 2; acquisition -> 3; acquisitions -> 1; acquitted -> 1; across -> 3; acted -> 2; acting -> 12; action -> 29; actions -> 3; activities -> 8; activity -> 1; acts -> 12; actual -> 7; acute -> 1; added -> 4; addition -> 7; additional -> 8; additionally -> 2; address -> 16; addressed -> 2; addressee -> 1; addresses -> 5; addressing -> 2; adequate -> 1; adjacencies -> 1; adjusted -> 8; adjustment -> 3; administer -> 4; administered -> 1; administration -> 69; administrative -> 3; administrator -> 9; administrators -> 17; admission -> 4; admit -> 4; admitted -> 9; adoption -> 1; advance -> 6; advanced -> 5; advances -> 16; advantageous -> 1; adverse -> 1; advice -> 19; advised -> 1; adviser -> 2; advisers -> 4; advisors -> 1; advisory -> 2; affairs -> 15; affect -> 10; affected -> 3; affects -> 2; affiliate -> 1; affiliated -> 3; afford -> 1; after -> 3; agency -> 3; agent -> 20; agents -> 4; aggregate -> 2; agree -> 5; agreed -> 13; agreeing -> 1; agreement -> 67; agreements -> 21; agrees -> 8; ahead -> 2; airmail -> 1; albans -> 9; albemarle -> 1; alia -> 1; align -> 1; aligned -> 1; aligns -> 1; allegedly -> 1; allocate -> 1; allocated -> 10; allocation -> 2; allocations -> 1; allotment -> 1; allotted -> 1; allow -> 5; allowed -> 56; allowing -> 2; alone -> 1; along -> 2; alongside -> 2; already -> 3; also -> 38; alter -> 3; alterative -> 1; altered -> 1; alternative -> 13; alternatively -> 3; alternatives -> 1; alters -> 2; although -> 5; always -> 5; amalgamation -> 1; ambiguity -> 1; amended -> 14; amendments -> 2; among -> 1; amongst -> 1; amount -> 89; amounts -> 42; analogous -> 2; analysis -> 7; analyst -> 1; ancillary -> 2; and/or -> 23; andrew -> 4; annexes -> 1; announced -> 2; announcement -> 1; annual -> 3; annum -> 1; another -> 4; antecedent -> 15; anticipate -> 7; anticipated -> 13; anticipates -> 2; apart -> 2; apparent -> 1; appears -> 2; appendices -> 1; applicable -> 21; application -> 6; applied -> 6; applies -> 5; apply -> 18; applying -> 1; appoint -> 3; appointed -> 25; appointment -> 4; apportioned -> 1; appraisals -> 1; approach -> 4; approached -> 2; appropriate -> 19; approval -> 26; approvals -> 1; approve -> 8; approved -> 25; approving -> 2; approximately -> 2; apr-21 -> 1; apr-22 -> 1; apr-23 -> 1; apr-24 -> 1; april -> 10; arbitrator -> 1; area -> 1; areas -> 1; argument -> 1; arise -> 14; arisen -> 2; arises -> 8; arising -> 18; armstrong -> 3; around -> 9; arrange -> 2; arranged -> 2; arrangement -> 66; arrangements -> 29; arrears -> 2; arriving -> 1; articulated -> 1; ascertain -> 2; ascertained -> 2; ascertainment -> 1; ascribed -> 1; aside -> 2; asking -> 1; aspect -> 1; aspects -> 1; assess -> 3; assessing -> 1; assessment -> 1; asset -> 17; assets -> 78; assign -> 1; assigned -> 1; assignees -> 1; assigs -> 1; assist -> 5; assistance -> 2; assisted -> 1; associate -> 1; associated -> 12; assume -> 2; assumed -> 11; assumes -> 4; assumption -> 2; assumptions -> 2; assurance -> 1; assurances -> 1; attached -> 8; attaches -> 1; attaching -> 1; attempt -> 2; attend -> 5; attending -> 1; attention -> 4; attorney -> 10; attracted -> 1; attracts -> 1; attributable -> 2; audit -> 1; aug-21 -> 1; aug-22 -> 1; aug-23 -> 1; august -> 5; authorised -> 9; authorises -> 1; authorising -> 1; authorities -> 1; authority -> 9; automatically -> 1; available -> 43; average -> 7; avoid -> 2; avoidable -> 1; avoidance -> 8; avoided -> 1; aware -> 7; away -> 4; back -> 14; backed -> 2; background -> 6; balance -> 38; balances -> 4; bank -> 26; banking -> 1; bankrupt -> 1; bankruptcy -> 1; bare -> 5; base -> 1; based -> 26; basement -> 1; basis -> 22; bear -> 2; became -> 2; become -> 9; becomes -> 1; becoming -> 6; been -> 4; began -> 1; beginning -> 3; behalf -> 33; behind -> 4; belief -> 1; believe -> 5; believed -> 2; believes -> 2; below -> 2; beneficial -> 15; beneficially -> 1; beneficiaries -> 3; benefit -> 15; benefiting -> 1; benefits -> 3; best -> 25; better -> 12; beyond -> 1; bidder -> 6; bidders -> 1; bill -> 1; billed -> 2; binding -> 6; binds -> 1; block -> 1; board -> 1; body -> 2; bona -> 1; bond -> 81; bondholder -> 1; bondholders -> 24; bonds -> 59; book -> 199; book* -> 1; books -> 2; borne -> 1; borrower -> 91; borrowers -> 43; borrowing -> 1; both -> 2; bouchier -> 3; bought -> 7; boultbee -> 1; breach -> 6; breached -> 1; breaches -> 16; breaching -> 1; bridge -> 6; bridging -> 5; brief -> 3; bring -> 1; bringing -> 2; broad -> 1; broker -> 1; brought -> 4; build-up -> 1; builders -> 1; building -> 1; builds -> 1; business -> 66; buy-back -> 2; buying -> 2; c.£1.57m -> 1; c.£17.4m -> 1; c.£1m -> 1; calculate -> 1; calculated -> 15; calculating -> 3; calculation -> 9; call -> 1; called -> 5; calling -> 1; came -> 2; campaigns -> 1; capabilities -> 2; capable -> 1; capacity -> 13; capital -> 35; capitalised -> 1; careful -> 1; carried -> 4; carry -> 7; carrying -> 2; case -> 35; cash -> 43; cashflow -> 4; cashflows -> 2; cast -> 10; categories -> 1; categorisation -> 2; category -> 4; cause -> 5; cease -> 5; ceased -> 1; ceases -> 1; cent -> 32; central -> 1; centre -> 1; certain -> 12; certainty -> 1; certified -> 1; cessation -> 2; chairman -> 3; challenge -> 41; challenged -> 14; challenges -> 3; challenging -> 1; change -> 11; changed -> 5; changes -> 8; changing -> 2; charge -> 18; charged -> 2; charges -> 17; chartered -> 6; check -> 1; cheque -> 3; cheques -> 3; cherry -> 1; choice -> 1; choose -> 2; choosing -> 1; chose -> 2; circumstances -> 10; citco -> 1; civil -> 1; claim -> 165; claimed -> 2; claims -> 147; clarity -> 1; class -> 4; classes -> 10; classified -> 1; clause -> 96; clauses -> 9; clear -> 3; cleared -> 1; clearly -> 1; client -> 2; climate -> 2; close -> 2; closed -> 4; closely -> 1; closing -> 1; cloverleaf -> 86; colending -> 1; collapse -> 1; collateral -> 12; combination -> 2; combined -> 3; combining -> 1; come -> 2; coming -> 2; commence -> 1; commenced -> 3; commences -> 1; commencing -> 2; commensurately -> 1; comments -> 1; commercial -> 8; commission -> 4; commitment -> 3; commitments -> 7; committed -> 2; committee -> 4; committing -> 1; common -> 1; communication -> 1; communications -> 1; companies -> 21; company -> 830; comparable -> 1; comparative -> 1; comparator -> 1; compare -> 1; compared -> 2; comparison -> 3; compensate -> 1; competent -> 1; compiled -> 1; complementary -> 1; complete -> 12; completed -> 14; completeness -> 2; completing -> 2; completion -> 34; complex -> 4; complexity -> 1; comply -> 3; complying -> 1; component -> 1; composition -> 1; comprehensive -> 7; comprise -> 1; comprises -> 1; comprising -> 1; compromise -> 26; compromised -> 130; compromises -> 6; concentration -> 1; concern -> 7; concerned -> 1; concerning -> 3; concerns -> 1; conclude -> 1; concluded -> 5; conclusion -> 1; conclusions -> 1; condition -> 1; conditional -> 2; conditions -> 9; conduct -> 6; conducted -> 1; conferencing -> 1; conferred -> 2; confident -> 1; confirm -> 1; confirmation -> 1; confirmed -> 5; confirms -> 3; conjunction -> 1; connected -> 6; connection -> 28; consensual -> 1; consent -> 11; consents -> 4; consequence -> 12; consequences -> 3; consequently -> 1; consider -> 33; considerable -> 1; consideration -> 36; considered -> 27; considering -> 5; considers -> 8; consist -> 1; constitute -> 3; constituted -> 1; constitutes -> 1; constraints -> 1; construction -> 1; construed -> 6; consult -> 1; consultation -> 2; consulted -> 1; contact -> 5; contain -> 1; contained -> 11; contains -> 4; contemplated -> 1; contemplation -> 2; contents -> 4; contest -> 1; context -> 8; contingency -> 3; contingent -> 52; continuation -> 2; continue -> 25; continued -> 4; continuing -> 3; continuity -> 1; contract -> 3; contractors -> 1; contracts -> 4; contractual -> 13; contractually -> 2; contrary -> 3; contribute -> 2; contribution -> 5; contributions -> 9; contributory -> 1; control -> 3; controlled -> 1; controller -> 1; convener -> 18; convenience -> 1; converted -> 1; convertible -> 6; convicted -> 1; copy -> 4; coronavirus -> 2; corporate -> 11; corporation -> 2; correct -> 3; correspondence -> 1; cost -> 9; costs -> 46; could -> 31; council -> 1; counsel -> 6; counterclaims -> 1; countersigning -> 1; counting -> 1; coupled -> 1; course -> 10; court -> 21; courts -> 2; covenant -> 2; cover -> 6; coverage -> 1; covered -> 1; covid -> 3; covid-19 -> 10; create -> 1; created -> 11; credit -> 14; creditor -> 311; creditors -> 688; criminal -> 1; crisis -> 2; criteria -> 1; critical -> 54; cross-default -> 1; crystallised -> 3; currency -> 2; current -> 23; currently -> 17; customer -> 2; customers -> 5; customs -> 2; daily -> 3; damage -> 1; damages -> 2; dangan -> 2; data -> 5; date -> 89; dated -> 16; dates -> 9; days -> 31; deal -> 4; dealing -> 2; dealings -> 1; deals -> 1; dealt -> 1; death -> 2; debenture -> 4; debt -> 11; debts -> 6; debut -> 1; dec-20 -> 1; dec-21 -> 1; dec-22 -> 1; dec-23 -> 1; december"
     ]
    },
    {
     "name": "stdout",
     "output_type": "stream",
     "text": [
      " -> 11; decided -> 5; decides -> 1; decision -> 63; decree -> 1; deduct -> 1; deducted -> 1; deed -> 18; deeds -> 2; deem -> 1; deemed -> 12; deep -> 1; default -> 8; defaulted -> 1; defaults -> 13; defending -> 2; deferred -> 19; deficiency -> 5; deficit -> 4; defined -> 7; definition -> 1; definitions -> 9; defrauding -> 1; delay -> 3; delays -> 2; delegated -> 2; deliver -> 11; delivered -> 13; delivering -> 1; delivery -> 2; demand -> 10; demanding -> 1; demands -> 1; demonstrate -> 2; demonstrates -> 1; denmark -> 1; denominated -> 1; depend -> 1; dependent -> 1; deploy -> 2; deployed -> 2; deployment -> 1; deposit -> 4; derived -> 1; described -> 4; describing -> 1; description -> 2; designated -> 2; desirability -> 4; desirable -> 3; detail -> 5; detailed -> 4; details -> 19; determination -> 5; determine -> 7; determined -> 4; determines -> 1; detrimental -> 1; developed -> 3; developers -> 4; developing -> 1; development -> 19; developments -> 18; dictated -> 1; dies -> 1; difference -> 1; different -> 3; differs -> 3; difficult -> 1; difficulties -> 1; diligence -> 7; direct -> 16; directed -> 2; directing -> 1; direction -> 4; directions -> 2; directly -> 5; director -> 7; directors -> 120; directs -> 3; disagree -> 1; disbursements -> 6; discharge -> 1; discharged -> 6; discharges -> 1; discharging -> 6; disclaimer -> 3; disclose -> 1; disclosure -> 3; discontinue -> 1; discount -> 4; discounted -> 1; discounts -> 1; discretion -> 14; discretionary -> 4; discretions -> 2; disease -> 1; disordered -> 1; disorderly -> 1; dispatch -> 1; disposal -> 4; dispose -> 1; disposed -> 1; dispute -> 1; disputed -> 18; disputes -> 1; disregarded -> 2; disseminated -> 1; distinguished -> 1; distressed -> 5; distributable -> 6; distribute -> 2; distributed -> 5; distributing -> 1; distribution -> 16; distributions -> 5; disturb -> 1; divided -> 1; dividend -> 3; document -> 20; documentary -> 1; documentation -> 104; documents -> 23; done -> 6; dormant -> 2; double -> 1; doubt -> 9; downside -> 1; downstream -> 1; dramatic -> 1; dramatically -> 1; drawdown -> 2; drawdowns -> 1; drawn -> 5; drive -> 2; duff -> 24; duffandphelps.com -> 8; duly -> 3; duration -> 4; during -> 5; duties -> 7; duty -> 2; each -> 10; earlier -> 2; early -> 6; earnings -> 4; ease -> 1; easily -> 2; economic -> 6; edition -> 1; effect -> 49; effected -> 5; effective -> 38; effectively -> 1; effectiveness -> 4; effects -> 2; efforts -> 1; eight -> 12; either -> 23; elect -> 10; elected -> 20; election -> 44; electronic -> 15; electronically -> 1; elects -> 7; element -> 4; elongate -> 1; elsewhere -> 2; email -> 12; emails -> 1; employed -> 2; employee -> 18; employees -> 33; employment -> 1; enable -> 38; enabled -> 3; enables -> 2; enabling -> 1; enacted -> 1; enactment -> 2; encounter -> 1; endeavour -> 3; endeavours -> 1; ended -> 1; ending -> 1; endorse -> 4; enforce -> 7; enforced -> 2; enforcement -> 6; enforcing -> 1; engage -> 1; england -> 13; english -> 3; enhanced -> 5; enhancements -> 1; enough -> 2; enquiry -> 1; ensure -> 10; ensuring -> 2; entail -> 1; enter -> 14; entered -> 7; entering -> 3; enters -> 5; entire -> 3; entirely -> 2; entities -> 3; entitle -> 3; entitled -> 39; entitlement -> 8; entitlements -> 1; entity -> 25; entry -> 1; envisages -> 1; equal -> 1; equally -> 2; equitable -> 2; equitably -> 1; equity -> 16; equivalent -> 39; eroding -> 1; error -> 3; escrow -> 2; essential -> 4; establish -> 1; established -> 6; estate -> 2; estimate -> 7; estimated -> 60; estimates -> 3; european -> 2; event -> 40; events -> 2; ever -> 1; every -> 3; evidence -> 9; evidenced -> 1; example -> 4; except -> 7; exception -> 2; excess -> 4; exchange -> 9; exchanging -> 1; excluding -> 4; exclusions -> 1; exclusively -> 1; execute -> 5; executed -> 2; execution -> 1; exercisable -> 1; exercise -> 3; exercising -> 1; exist -> 5; existing -> 15; exit -> 1; exited -> 1; expectations -> 3; expected -> 6; expects -> 2; expedient -> 3; expended -> 1; expense -> 2; expenses -> 26; expenses* -> 2; experience -> 6; experienced -> 2; expert -> 4; expertise -> 1; expiration -> 1; expiry -> 6; explain -> 1; explained -> 2; explanation -> 1; explore -> 1; exposure -> 16; exposures -> 1; expressed -> 2; expression -> 1; expressions -> 1; expressly -> 1; extend -> 4; extent -> 13; external -> 9; extinguishing -> 2; extortionate -> 2; extraction -> 1; facilitate -> 2; facilitated -> 1; facilities -> 3; facility -> 4; facsimile -> 4; fact -> 3; factor -> 1; factored -> 1; factoring -> 1; factors -> 3; failed -> 1; failing -> 2; fails -> 8; failure -> 4; fairly -> 1; faith -> 1; fall -> 4; falling -> 1; falls -> 1; favour -> 28; features -> 1; feb-21 -> 1; feb-22 -> 1; feb-23 -> 1; feb-24 -> 1; february -> 6; fees -> 26; fellow -> 2; feminine -> 1; fide -> 1; fiduciary -> 1; fifty -> 14; fifty-eight -> 5; figure -> 3; figures -> 3; file -> 1; filing -> 1; final -> 11; finance -> 66; financed -> 1; financer -> 1; financial -> 32; financing -> 2; find -> 3; firm -> 8; firms -> 2; first -> 13; five -> 3; fixed -> 9; floating -> 10; floor -> 8; flow -> 2; focus -> 3; focussed -> 3; focussing -> 2; following -> 53; follows -> 4; force -> 8; forecast -> 14; forecasted -> 3; forecasting -> 2; forecasts -> 1; foregoing -> 4; foreign -> 1; forfeit -> 2; form -> 18; formal -> 2; formed -> 5; former -> 1; formula -> 3; formulae -> 1; forth -> 3; forthwith -> 1; forward -> 5; forward-looking -> 3; forwarding -> 1; forwards -> 2; found -> 3; four -> 2; framework -> 2; fraud -> 1; frequency -> 1; from -> 3; full -> 41; fully -> 9; function -> 1; functions -> 8; fund -> 75; funded -> 25; funding -> 54; fundraiser -> 1; fundraising -> 1; funds -> 25; further -> 3; furthermore -> 2; future -> 21; gain -> 2; gains -> 5; garret -> 2; gave -> 1; gender -> 1; genders -> 1; general -> 7; generality -> 4; generally -> 1; generate -> 1; generated -> 2; generates -> 1; generating -> 1; genuine -> 1; geoffrey -> 3; give -> 26; given -> 52; gives -> 2; giving -> 3; going -> 15; gone -> 1; good -> 2; governed -> 2; governing -> 10; government -> 3; governmental -> 1; grade -> 1; gradually -> 1; graham -> 6; grand -> 1; granted -> 12; greater -> 8; gross -> 2; grounding -> 1; grounds -> 3; group -> 88; guarantee -> 6; guaranteed -> 1; guarantees -> 1; guarantor -> 2; guidance -> 3; half -> 2; halt -> 1; hand -> 1; happened -> 4; hard -> 1; hardship -> 1; haymarket -> 8; head -> 1; headed -> 2; headings -> 1; health -> 2; heavily -> 1; held -> 28; help -> 3; helped -> 1; hence -> 1; hereby -> 11; herein -> 6; hereof -> 1; high -> 2; higher -> 11; highest -> 4; highlighted -> 1; highlights -> 2; highly -> 1; historic -> 4; historically -> 5; history -> 1; hmrc -> 2; hold -> 14; holder -> 8; holders -> 33; holding -> 8; holdings -> 1; holds -> 22; holiday -> 6; home -> 4; homes -> 1; honorable -> 1; honourable -> 1; hourly -> 1; hours -> 1; house -> 10; housing -> 4; however -> 23; howsoever -> 4; hurdle -> 6; icaew -> 1; identified -> 4; identify -> 2; identifying -> 2; ignored -> 1; illiquid -> 1; illness -> 1; illustrative -> 1; imbalance -> 1; immediate -> 7; immediately -> 4; impact -> 5; impacted -> 4; impaired -> 2; impairment -> 7; impairments -> 2; implementation -> 10; implemented -> 19; implementing -> 2; implications -> 1; import -> 1; important -> 7; importantly -> 2; importing -> 1; impose -> 3; improve -> 3; improved -> 3; improvements -> 1; inability -> 1; incentive -> 1; inception -> 1; incidental -> 1; include -> 23; included -> 13; includes -> 9; including -> 52; inclusion -> 1; inclusive -> 1; income -> 29; income/ -> 2; inconsistent -> 1; incorporated -> 9; incorporation -> 1; incorrect -> 2; incorrectly -> 1; increase -> 3; increased -> 5; increasing -> 4; incrementally -> 1; incur -> 2; incurred -> 15; indemnify -> 1; indemnifying -> 1; indemnity -> 3; independent -> 3; indicated -> 3; indicates -> 1; indicative -> 3; indicator -> 1; indictable -> 1; indirectly -> 3; individual -> 2; industry -> 1; inevitable -> 1; inform -> 5; information -> 48; informed -> 2; initial -> 3; injection -> 1; input -> 4; inserted -> 1; insofar -> 1; insolvency -> 99; insolvent -> 2; instalments -> 3; instance -> 1; instances -> 2; instead -> 7; institute -> 1; institutional -> 4; instructed -> 2; instruction -> 2; instructions -> 9; instrument -> 7; instruments -> 1; insufficient -> 7; insurance -> 3; insurer -> 1; intangible -> 4; intend -> 1; intended -> 6; intends -> 5; intensively -> 1; intention -> 6; intentions -> 4; inter -> 2; inter-co -> 2; inter-company -> 11; intercompany -> 39; intercreditor -> 2; interest -> 75; interested -> 3; interests -> 22; intermediate -> 1; internal -> 2; interpretation -> 7; intervals -> 1; intervention -> 3; intra-group -> 1; introduced -> 2; introduction -> 7; invalid -> 1; invest -> 2; invested -> 6; investigate -> 2; investment -> 95; investments -> 31; investor -> 37; investors -> 63; invitation -> 6; invited -> 2; invoice -> 6; invoiced -> 2; invoices -> 1; involve -> 5; involved -> 3; involvement -> 1; involves -> 1; involving -> 1; irish -> 3; irregularity -> 1; irrespective -> 4; irrevocable -> 2; irrevocably -> 3; irritancy -> 1; issuance -> 6; issuances -> 2; issue -> 28; issued -> 38; issuer -> 19; issues -> 4; issuing -> 5; items -> 4; jan-21 -> 1; jan-22 -> 1; jan-23 -> 1; jan-24 -> 1; january -> 5; john -> 2; joint -> 3; jointly -> 2; joseph -> 2; judgements -> 2; judgment -> 3; jul-21 -> 1; jul-22 -> 1; jul-23 -> 1; jul-24 -> 1; july -> 19; jun-21 -> 1; jun-22 -> 1; jun-23 -> 1; jun-24 -> 1; june -> 7; jurisdiction -> 6; jursidiction -> 1; justice -> 1; keep -> 1; kept -> 2; kingdom -> 1; know -> 2; knowledge -> 3; known -> 3; kpis -> 1; lack -> 1; lacks -> 1; land -> 2; landlord -> 3; language -> 1; large -> 2; largely -> 2; larger -> 1; largest -> 1; last -> 5; late -> 1; later -> 8; latest -> 3; latter -> 3; latterly -> 2; launch -> 1; launched -> 1; lawful -> 1; lawfully -> 3; laws -> 1; lead -> 5; leading -> 1; lease -> 4; least -> 3; leave -> 1; leaving -> 1; left -> 2; legacy -> 1; legal -> 47; legally -> 2; lend -> 1; lender -> 40; lender/investor -> 1; lenders -> 13; lending -> 39; lends -> 1; length -> 2; lengths -> 1; lent -> 4; less -> 12; letter -> 8; letters -> 1; level -> 6; levels -> 1; leverage -> 1; leveraging -> 2; levied -> 1; liabilities -> 41; liability -> 71; liable -> 9; licence -> 1; lifecycle -> 1; light -> 7; like -> 1; likely -> 34"
     ]
    },
    {
     "name": "stdout",
     "output_type": "stream",
     "text": [
      "; limit -> 1; limitation -> 4; limited -> 91; limiting -> 3; limits -> 1; line -> 1; linked -> 1; liquid -> 2; liquidated -> 1; liquidation -> 21; liquidator -> 6; liquidators -> 12; liquidity -> 2; list -> 6; listed -> 57; litigation -> 1; live -> 5; loan -> 332; loaned -> 1; loans -> 164; located -> 2; lock -> 1; lodge -> 1; lodged -> 1; lodges -> 1; log-in -> 2; login -> 2; london -> 26; long -> 3; long-term -> 1; longer -> 13; look -> 3; looking -> 1; lose -> 6; loss -> 19; losses -> 6; lower -> 7; made -> 70; mailed -> 1; main -> 6; mainly -> 1; maintain -> 2; maintained -> 2; maintaining -> 3; majesty -> 1; major -> 3; majorities -> 2; majority -> 5; make -> 36; makes -> 2; making -> 11; manage -> 1; managed -> 3; management -> 5; manager -> 2; managing -> 5; manifest -> 1; manner -> 6; many -> 2; mar-21 -> 1; mar-22 -> 1; mar-23 -> 1; mar-24 -> 1; march -> 6; mark-up -> 1; market -> 12; marketed -> 2; marketing -> 5; marketplace -> 1; masculine -> 1; match -> 2; matched -> 9; matching -> 1; material -> 9; materially -> 6; matter -> 2; matters -> 6; matthew -> 2; mature -> 2; matured -> 3; matures -> 3; maturing -> 1; maturities -> 5; maturity -> 7; maximise -> 4; maximises -> 1; maximising -> 1; maximum -> 1; may-21 -> 1; may-22 -> 1; may-23 -> 1; may-24 -> 1; mean -> 4; meaning -> 17; meanings -> 2; means -> 146; measure -> 1; meet -> 16; meeting -> 46; meetings -> 3; meets -> 1; member -> 2; members -> 5; memorandum -> 1; mentally -> 1; mentioned -> 4; merged -> 1; method -> 1; methodology -> 5; methods -> 1; mid-build -> 1; mid-june -> 1; mid-market -> 1; mid-rate -> 1; might -> 1; milestones -> 2; mills -> 2; mini -> 31; mini-bond -> 5; mini-bonds -> 6; minibond -> 4; minibonds -> 3; minimum -> 1; minority -> 1; miscalculation -> 1; miscellaneous -> 2; mismatch -> 6; mitigate -> 1; mixture -> 2; model -> 17; models -> 1; modest -> 1; modification -> 16; modifications -> 5; modified -> 2; modify -> 1; money -> 5; monies -> 14; monitor -> 1; month -> 3; monthly -> 6; months -> 46; moratorium -> 2; mortgage -> 3; mortgages -> 1; most -> 1; mostly -> 1; move -> 4; moved -> 1; movement -> 1; movements -> 2; moving -> 1; much -> 1; multi-unit -> 1; must -> 12; mutual -> 1; name -> 6; namely -> 1; names -> 3; national -> 2; natural -> 1; nature -> 8; necessarily -> 3; necessary -> 22; need -> 8; needed -> 2; needing -> 1; needs -> 1; negative -> 1; negatively -> 1; negligence -> 2; neither -> 5; neuter -> 1; never -> 3; nevertheless -> 1; newly -> 2; next -> 11; niche -> 1; nominal -> 3; nominated -> 1; nomination -> 2; nominee -> 1; nominees -> 36; non- -> 5; non-binding -> 1; non-competition -> 1; non-contractual -> 1; non-convertible -> 1; non-critical -> 53; non-current -> 2; non-disclosure -> 1; non-exclusive -> 1; non-executive -> 2; non-investor -> 13; non-investors -> 1; non-maturing -> 2; non-payment -> 1; non-performance/other -> 1; non-preferential -> 1; non-production -> 1; non-related -> 1; non-transferable -> 2; non-transferrable -> 1; non-voting -> 5; none -> 1; nonperformance/ -> 1; normal -> 3; notable -> 1; notably -> 1; notary -> 1; note -> 20; noted -> 8; notes -> 3; nothing -> 7; notice -> 126; notices -> 12; notified -> 7; notify -> 9; notifying -> 1; notional -> 3; notwithstanding -> 8; nov-20 -> 1; nov-21 -> 1; nov-22 -> 1; nov-23 -> 1; novate -> 3; novated -> 5; novation -> 1; novations -> 1; november -> 3; number -> 22; numbers -> 1; oaths -> 1; objectives -> 7; obligated -> 1; obligation -> 28; obligations -> 37; obliged -> 6; obligors -> 3; observed -> 1; obsolete -> 1; obtain -> 4; obtained -> 5; obtaining -> 5; occasion -> 1; occasionally -> 1; occasioned -> 1; occupation -> 1; occur -> 2; occurred -> 1; occurrence -> 1; occurs -> 2; oct-20 -> 1; oct-21 -> 1; oct-22 -> 1; oct-23 -> 1; october -> 30; offence -> 2; offer -> 17; offered -> 5; offering -> 2; offers -> 6; office -> 20; officer -> 1; officers -> 2; official -> 1; offset -> 2; omitted -> 1; once -> 12; onerous -> 3; ongoing -> 7; onward -> 1; onwards -> 2; open -> 2; opened -> 1; operate -> 1; operated -> 5; operates -> 3; operating -> 14; operation -> 6; operational -> 1; operations -> 2; opinion -> 9; opportunistic -> 2; opportunities -> 9; opportunity -> 4; optimistic -> 1; option -> 6; options -> 10; orally -> 1; order -> 22; orderly -> 4; ordinarily -> 1; ordinary -> 19; organisation -> 1; original -> 1; originally -> 1; originate -> 2; originated -> 3; originates -> 2; originating -> 2; origination -> 6; originator -> 18; other -> 23; others -> 1; otherwise -> 38; out-of-group -> 1; outbreak -> 1; outcome -> 39; outcomes -> 6; outlined -> 6; outlines -> 1; outlook -> 1; outside -> 4; outstanding -> 13; over -> 3; overall -> 5; overarching -> 1; overhead -> 4; overleaf -> 1; overseas -> 1; oversee -> 1; oversight -> 1; overview -> 3; owed -> 22; owes -> 2; owing -> 1; owned -> 3; owners -> 7; ownership -> 6; owning -> 2; owns -> 4; page -> 1; paid -> 54; pandemic -> 3; paper -> 1; paragraph -> 6; paragraphs -> 9; parent -> 4; pari -> 1; part -> 92; participants -> 2; participate -> 5; participated -> 1; participating -> 2; participation -> 3; participator -> 1; particular -> 9; parties -> 39; partly -> 1; partner -> 1; partners -> 4; partnership -> 5; parts -> 12; party -> 40; passu -> 1; password -> 2; past -> 4; payable -> 17; payables -> 2; paying -> 4; payment -> 141; payments -> 57; payroll -> 4; peer -> 6; peer-to-peer -> 3; penalties -> 1; pence -> 8; pending -> 1; penny -> 3; percent -> 9; percentage -> 5; perform -> 9; performance -> 1; performing -> 1; period -> 64; periods -> 2; permanent -> 1; permit -> 1; permits -> 3; permitted -> 1; person -> 27; personal -> 7; persons -> 8; pertaining -> 2; petition -> 1; phelps -> 24; physical -> 4; place -> 20; placed -> 9; placing -> 4; plan -> 5; planned -> 3; planning -> 1; plans -> 1; platform -> 27; please -> 18; pledge -> 1; pledged -> 4; plural -> 1; plus -> 4; pmbs -> 1; point -> 2; points -> 2; policy -> 1; portfolio -> 4; portion -> 6; portions -> 2; position -> 14; possession -> 1; possibility -> 4; possible -> 9; post -> 4; posted -> 2; posting -> 1; potential -> 22; potentially -> 3; pound -> 4; pounds -> 3; power -> 25; powers -> 11; practicable -> 8; practical -> 3; practices -> 2; practitioner -> 2; practitioners -> 1; pre-billing -> 1; pre-bills -> 1; pre-emption -> 2; pre-funding -> 1; pre-funds -> 1; pre-paid -> 2; pre-pay -> 1; pre-payment -> 1; pre-payments -> 1; prebilled -> 1; precedence -> 2; preceding -> 1; pref -> 2; preference -> 9; preferences -> 1; preferential -> 30; preferred -> 107; preffered -> 2; prefund -> 1; prejudice -> 7; prejudices -> 1; prepaid -> 1; preparation -> 2; prepare -> 2; prepared -> 4; preparing -> 1; prepayment -> 2; prepayments -> 1; prepays -> 1; prepopulated -> 1; prescribed -> 9; presence -> 1; present -> 8; president -> 1; prevail -> 3; prevent -> 2; prevented -> 1; previous -> 1; previously -> 3; price -> 19; prices -> 1; pricing -> 1; primarily -> 2; primary -> 13; principal -> 7; principally -> 1; principles -> 1; prior -> 11; priority -> 1; private -> 10; privilege -> 1; pro-rata -> 3; problems -> 1; procedure -> 36; procedures -> 1; proceed -> 2; proceeded -> 1; proceedings -> 10; proceeds -> 18; process -> 24; processes -> 1; processing -> 1; procure -> 4; produce -> 1; product -> 2; products -> 10; professional -> 12; profile -> 1; profit -> 18; profit* -> 2; profit/ -> 4; profitability -> 4; profits -> 8; profound -> 1; programme -> 13; programmes -> 3; progresses -> 1; prohibited -> 1; prohibiting -> 2; prohibition -> 1; project -> 3; projected -> 2; projects -> 3; promissory -> 1; promoting -> 1; promptly -> 1; promulgated -> 1; proof -> 2; proper -> 4; properly -> 2; properties -> 2; property -> 32; proportion -> 6; proportions -> 1; proposal -> 221; proposals -> 5; propose -> 3; proposed -> 31; proposes -> 1; proposing -> 1; proprietary -> 1; prospect -> 1; prospectus -> 1; protecting -> 1; protracted -> 1; provable -> 2; prove -> 2; provide -> 20; provided -> 44; providers -> 1; provides -> 7; providing -> 8; provision -> 13; provisions -> 32; proxy -> 6; prudent -> 2; public -> 8; publication -> 1; publicly -> 1; published -> 3; purchase -> 6; purchased -> 1; purchaser -> 3; purchasers -> 3; purchasing -> 1; purely -> 1; purported -> 1; purpose -> 21; purposes -> 22; pursuant -> 53; pursuing -> 1; pursuit -> 1; push -> 1; pushed -> 1; qualified -> 3; qualify -> 2; quality -> 2; quarter -> 1; quarters -> 1; queries -> 5; quickly -> 4; quorum -> 1; raise -> 5; raised -> 12; raising -> 4; range -> 5; rank -> 5; ranking -> 1; rata -> 4; rate -> 9; rates -> 6; rather -> 4; ratify -> 1; ratio -> 1; rationale -> 1; reach -> 2; reached -> 1; read -> 1; ready -> 1; real -> 2; real-estate -> 3; realisable -> 5; realisation -> 7; realisations -> 5; realise -> 5; realised -> 4; reason -> 5; reasonable -> 7; reasonably -> 13; reasons -> 14; reassess -> 2; receipt -> 8; receipts -> 3; receivable -> 2; receivables -> 8; receive -> 63; received -> 27; receives -> 1; receiving -> 7; recent -> 6; recently -> 6; recharge -> 1; recharging -> 1; recipient -> 1; recitals -> 2; reclassification -> 1; recognise -> 1; recognised -> 1; recommenced -> 1; recommend -> 3; recommendation -> 3; recommended -> 1; recommending -> 1; recommends -> 1; reconcile -> 1; reconciliation -> 1; reconciliations -> 1; recorded -> 1; records -> 2; recourse -> 1; recoverable -> 1; recoveries -> 2; recovery -> 10; rectify -> 1; redeem -> 2; redeemable -> 3; redeemed -> 6; redeeming -> 1; redemption -> 5; redemptions -> 8; reduce -> 1; reduced -> 10; reduction -> 4; reductions -> 2; redundant -> 2; refer -> 2; reference -> 4; referenced -> 1; references -> 20; referral -> 1; referred -> 7; refers -> 2; refinanced -> 1; refined -> 2; reflect -> 12; reflected -> 2; reflection -> 1; reflects -> 2; refundable -> 1; refute -> 1; regard -> 3; regarding -> 2; regardless -> 1; regards -> 6; regional -> 1; registered -> 11; registration -> 2; regular -> 4; regulated -> 4; regulation -> 5; regulatory -> 7; reinvest -> 1; reject -> 6; rejected -> 4; rejection -> 2; relate -> 4; related -> 37; relates -> 13; relating -> 6; relation -> 73; relationship -> 9; relationships -> 2; relative -> 1; release -> 10; released -> 9; releases -> 14; relevant -> 63; reliance -> 2; reliant -> 1; relied -> 7; relief -> 2; rely -> 2; remain -> 6; remainder -> 1"
     ]
    },
    {
     "name": "stdout",
     "output_type": "stream",
     "text": [
      "; remaining -> 6; remains -> 4; remedy -> 7; remote -> 1; remotely -> 3; remove -> 1; remunerated -> 1; remuneration -> 11; rendered -> 1; renewed -> 1; reoccurring -> 2; reorganisation -> 1; reorganise -> 1; repaid -> 10; repay -> 4; repayable -> 1; repayment -> 16; repayments -> 3; replaced -> 1; replacement -> 1; report -> 7; reported -> 1; reports -> 3; represent -> 4; representations -> 11; represented -> 2; representing -> 1; represents -> 12; reproduction -> 1; repurchase -> 1; repurchases -> 1; request -> 11; requested -> 1; requests -> 6; require -> 13; required -> 27; requirement -> 7; requirements -> 9; requires -> 8; requiring -> 2; requisite -> 6; reregistration -> 3; reserves -> 6; residential -> 4; residual -> 3; resigns -> 1; resolution -> 7; resolutions -> 1; resolve -> 1; resolved -> 9; resources -> 9; resourcing -> 1; respect -> 62; respective -> 22; respectively -> 3; respiratory -> 1; respond -> 2; response -> 1; responsibilities -> 3; responsible -> 4; restated -> 11; restatement -> 4; restating -> 1; restore -> 2; restricted -> 2; restriction -> 1; restrictions -> 6; restructure -> 6; restructuring -> 11; result -> 61; resulted -> 5; resulting -> 4; results -> 1; retail -> 17; retain -> 2; retained -> 9; retaining -> 1; return -> 52; returned -> 2; returning -> 1; returns -> 8; revenue -> 8; revenues -> 1; reversed -> 1; reversionary -> 1; review -> 7; reviewable -> 3; reviewed -> 1; revised -> 1; revisit -> 1; revoked -> 2; right -> 35; rights -> 25; rise -> 7; risk -> 9; risks -> 2; road -> 1; robert -> 3; rock -> 4; role -> 7; roles -> 3; rolled -> 4; room -> 2; rooted -> 1; rule -> 20; rules -> 29; run-off -> 1; safely -> 1; said -> 1; sale -> 145; sale/assignment -> 2; sales -> 2; sarscov- -> 1; satisfaction -> 4; satisfactory -> 1; satisfied -> 4; satisfy -> 2; saturday -> 4; save -> 10; savings -> 1; scenario -> 20; scenarios -> 3; schedule -> 70; schedules -> 4; scheme -> 2; second -> 4; secondary -> 1; section -> 44; sections -> 5; secure -> 4; secured -> 59; secures -> 1; securing -> 1; securities -> 4; security -> 102; security…on -> 1; seeing -> 1; seek -> 11; seeking -> 2; seeks -> 2; seen -> 5; sees -> 1; segregated -> 7; selected -> 1; selection -> 1; self-help -> 4; sell -> 16; selling -> 10; send -> 5; sending -> 4; sends -> 1; senior -> 8; sent -> 24; sep-20 -> 1; sep-21 -> 1; sep-22 -> 1; sep-23 -> 1; separate -> 1; separately -> 2; september -> 38; series -> 28; served -> 1; service -> 13; serviced -> 1; servicer -> 29; services -> 12; servicing -> 30; set-off -> 8; sets -> 1; settle -> 4; settled -> 5; settlement -> 17; settling -> 1; seven -> 4; seventy -> 6; seventy-five -> 2; seventy-three -> 2; several -> 3; severally -> 2; severance -> 1; severe -> 2; shall -> 204; shard -> 6; share -> 27; shared -> 1; shareholder -> 83; shareholders -> 7; shareholding -> 7; shareholdings -> 1; shares -> 158; sheet -> 14; shoosmiths -> 2; short -> 5; short-term -> 1; shortage -> 1; shorter -> 2; shortfall -> 21; shortly -> 1; should -> 5; showing -> 1; shown -> 4; shows -> 2; shut -> 1; sign -> 2; signatory -> 1; signature -> 1; signed -> 8; significant -> 5; significantly -> 5; signing -> 1; similar -> 3; similarly -> 2; simplification -> 2; simplified -> 1; simplify -> 1; since -> 11; single -> 1; singular -> 1; site -> 1; sites -> 2; situated -> 1; situation -> 1; situations -> 1; size -> 2; skills -> 1; slightly -> 1; small -> 6; smaller -> 1; social -> 1; software -> 1; sold -> 9; sole -> 5; solely -> 10; solicitation -> 1; solicitor -> 2; solution -> 3; solutions -> 1; solve -> 1; solvent -> 4; something -> 1; soon -> 4; sought -> 2; source -> 5; sourcing -> 2; south -> 1; space -> 2; spain -> 1; speak -> 1; special -> 10; specific -> 1; specifically -> 5; specified -> 3; spectrum -> 1; speculate -> 2; speed -> 1; spent -> 1; split -> 1; sponsored -> 1; stability -> 2; stable -> 1; staff -> 5; staffing -> 1; staged -> 1; stake -> 1; stakeholders -> 2; stance -> 1; standard -> 2; state -> 2; stated -> 6; statement -> 28; statements -> 9; states -> 1; statistics -> 1; status -> 1; statute -> 1; statutory -> 28; stay -> 2; step -> 2; steps -> 3; sterling -> 4; still -> 3; stipulate -> 1; stock -> 3; strategic -> 3; strategy -> 15; stream -> 1; streams -> 1; street -> 7; stress -> 1; structural -> 1; structure -> 13; structuring -> 2; sub-contract -> 1; subject -> 29; subjective -> 1; submissions -> 1; submit -> 10; submitted -> 7; submitting -> 4; subordinated -> 17; subordination -> 3; subscribe -> 2; subscription -> 4; subsequent -> 2; subsequently -> 5; subsidiaries -> 2; subsidiary -> 8; substance -> 3; substantial -> 1; substantially -> 3; substitute -> 1; successful -> 3; successfully -> 4; successor -> 1; successors -> 2; such -> 9; suffer -> 2; suffered -> 4; sufficient -> 7; sufficiently -> 1; suggests -> 1; summarised -> 1; summarises -> 3; summarising -> 1; summary -> 25; summer -> 1; sums -> 6; sunday -> 4; sundry -> 5; supervised -> 1; supervisor -> 14; supervisors -> 176; supplied -> 1; suppliers -> 1; supply -> 1; support -> 4; supporting -> 2; supportive -> 1; supports -> 1; surplus -> 2; survive -> 2; suspend -> 2; suspended -> 5; suspension -> 3; sw1y -> 8; sweeping -> 1; swept -> 1; sympathetic -> 1; syndicate -> 2; syndicated -> 5; syndicates -> 2; syndication -> 2; syndicator -> 1; syndrome -> 1; synergies -> 1; system -> 1; systems -> 1; table -> 11; take -> 20; taken -> 31; taking -> 6; tangible -> 1; target -> 2; targeted -> 1; taxation -> 6; team -> 3; teaser -> 1; technical -> 2; technology -> 1; telegraphic -> 2; telephone -> 6; temporary -> 3; tenant -> 2; term -> 23; terminal -> 1; terminate -> 8; terminated -> 2; terminates -> 1; terminating -> 2; termination -> 15; terms -> 149; that -> 6; theoretical -> 1; there -> 9; thereafter -> 4; thereby -> 2; therefore -> 35; therein -> 2; thereof -> 4; thereon -> 1; thereto -> 2; these -> 14; they -> 7; things -> 6; third -> 34; this -> 59; three -> 13; throughout -> 5; thus -> 2; tight -> 1; time -> 60; timeline -> 1; times -> 3; timescale -> 1; timetable -> 1; title -> 17; together -> 10; took -> 3; top-holding -> 1; total -> 32; totalled -> 1; totalling -> 2; totals -> 1; towards -> 5; trade -> 10; traded -> 3; trading -> 12; traditional -> 1; traditionally -> 1; traffic -> 1; tranches -> 2; transact -> 3; transaction -> 20; transactions -> 15; transfer -> 26; transferability -> 1; transferable -> 1; transferees -> 1; transferrable -> 3; transferred -> 11; transferring -> 1; transfers -> 2; travel -> 2; treat -> 1; treated -> 5; treatment -> 1; triggered -> 1; true -> 1; trust -> 28; trustee -> 29; trustees -> 4; trusts -> 2; tuesday -> 6; turn -> 6; turnbull -> 5; twenty -> 3; twenty-five -> 1; type -> 2; typical -> 1; typically -> 6; ultimately -> 7; unable -> 7; unaffected -> 6; unanticipated -> 1; unascertained -> 3; uncertainty -> 3; unclaimed -> 2; unconditional -> 3; unconditionally -> 1; unconnected -> 2; undeliverable -> 1; under -> 8; underlying -> 11; underpin -> 1; understand -> 1; undertake -> 3; undertaken -> 1; undertakes -> 5; undertaking -> 4; undertakings -> 1; undervalue -> 3; underwriting -> 1; underwritten -> 2; unenforceable -> 2; unfairly -> 1; unforeseen -> 1; uniform -> 1; unincorporated -> 1; union -> 2; unique -> 2; united -> 1; unknown -> 1; unless -> 25; unlikely -> 8; unlimited -> 1; unliquidated -> 4; unpaid -> 2; unpledged -> 4; unprecedented -> 3; unsecured -> 46; unwinding -> 1; unwound -> 1; upcoming -> 1; upheld -> 1; uplifts -> 1; upload -> 2; uploaded -> 2; uploading -> 1; upon -> 45; upwards -> 1; urban -> 13; used -> 10; using -> 7; utilise -> 2; utilised -> 5; vacancy -> 2; vacate -> 1; vacated -> 1; valid -> 1; validity -> 2; validly -> 1; valuation -> 3; value -> 84; valued -> 4; values -> 6; valuing -> 2; variation -> 15; variations -> 1; varied -> 2; various -> 7; vary -> 3; varying -> 3; vastly -> 1; vehicle -> 11; vehicles -> 8; venture -> 1; versa -> 1; vest -> 1; vested -> 1; viability -> 3; vice -> 1; view -> 13; virtual -> 2; virtue -> 3; viscount -> 2; visits -> 1; void -> 1; voluntary -> 25; vote -> 33; voted -> 5; votes -> 14; voting -> 38; wacl -> 59; wages -> 2; waive -> 10; waived -> 2; waives -> 11; waiving -> 1; wales -> 12; warrant -> 1; warranted -> 1; warranties -> 5; waterfall -> 1; ways -> 1; wbcl -> 10; website -> 15; wednesday -> 3; weeks -> 4; well -> 6; wellesley -> 108; wellesleycva -> 8; wgil -> 16; what -> 2; whatever -> 1; whatsoever -> 3; when -> 7; whenever -> 1; where -> 5; whereas -> 2; whereby -> 2; whether -> 42; while -> 1; whilst -> 18; whole -> 7; wholly -> 2; whose -> 14; wider -> 1; wilful -> 2; willing -> 2; wind -> 5; wind-down -> 1; winddown -> 1; windfall -> 1; winding -> 4; winding-up -> 1; wish -> 2; wishes -> 4; wishing -> 3; wisl -> 3; with -> 14; with/to -> 1; withdraw -> 1; withdrawn -> 10; within -> 79; without -> 33; witness -> 1; witnesses -> 1; words -> 3; work -> 7; worked -> 1; working -> 5; works -> 1; world -> 2; worse -> 1; worth -> 3; would -> 116; wound -> 1; write-offs -> 2; writing -> 15; written -> 12; www.wellesley.co.uk -> 1; year -> 66; years -> 9; yield -> 1; your -> 7; zero -> 1; "
     ]
    }
   ],
   "source": [
    "for word in sorted(fdist):\n",
    "    if (fdist[word]) > 0:\n",
    "        print(word, '->', fdist[word], end='; ')"
   ]
  },
  {
   "cell_type": "code",
   "execution_count": 64,
   "metadata": {},
   "outputs": [],
   "source": [
    "# model = Word2Vec(prin_pages, min_count=10)\n",
    "# model = Word2Vec(prin_pages)"
   ]
  },
  {
   "cell_type": "code",
   "execution_count": 83,
   "metadata": {},
   "outputs": [],
   "source": [
    "import multiprocessing\n",
    "cores = multiprocessing.cpu_count()"
   ]
  },
  {
   "cell_type": "code",
   "execution_count": 210,
   "metadata": {},
   "outputs": [],
   "source": [
    "from gensim.models.phrases import Phrases, Phraser"
   ]
  },
  {
   "cell_type": "code",
   "execution_count": 211,
   "metadata": {},
   "outputs": [],
   "source": [
    "sent = [row.split() for row in prin_sentences]"
   ]
  },
  {
   "cell_type": "code",
   "execution_count": 212,
   "metadata": {},
   "outputs": [],
   "source": [
    "phrases = Phrases(sent, min_count=30, progress_per=10000)\n",
    "bigram = Phraser(phrases)\n",
    "sentences = bigram[sent]"
   ]
  },
  {
   "cell_type": "code",
   "execution_count": 213,
   "metadata": {},
   "outputs": [],
   "source": [
    "model = Word2Vec(\n",
    "        sentences,\n",
    "        size=150,\n",
    "        window=10,\n",
    "        min_count=2,\n",
    "        workers=10,\n",
    "        iter=10)"
   ]
  },
  {
   "cell_type": "code",
   "execution_count": 214,
   "metadata": {},
   "outputs": [
    {
     "name": "stdout",
     "output_type": "stream",
     "text": [
      "['THIS', 'IMPORTANT', 'AND', 'If', 'you', 'are', 'in', 'any', 'doubt', 'as', 'to', 'the', 'action', 'should', 'seek', 'your', 'own', 'independent', 'advice', 'from', 'a', 'or', 'financial', 'an', 'accountant', 'This', 'document', 'does', 'not', 'constitute', 'form', 'part', 'of', 'offer', 'invitation', 'sell', 'acquire', 'Shares', 'other', 'securities', 'Wellesley', 'Finance', 'Plc', 'information', 'is', 'otherwise', 'available', 'use', 'it', 'contains', 'for', 'purpose', 'than', 'considering', '(the', 'and', 'each', 'its', 'CREDITORS', '(as', 'defined', 'COMPANY', 'VOLUNTARY', 'ARRANGEMENT', 'Part', 'I', 'Insolvency', 'Act', '1986', 'II', '(England', 'Wales)', 'Rules', 'has_been', 'prepared', 'solely', 'inform', 'Creditors', 'Shareholder', 'proposal', 'purpose.', 'Your', 'attention', 'drawn', 'Clause', '1', 'Section', '2', '(Terms', 'Proposal).', 'V', 'Company', 'Voluntary', 'Arrangement)', 'such', 'shall', 'apply', 'throughout', 'this', 'document,', 'Paragraphs', '7', 'Proposal)', '8', 'Shareholder)', 'why', 'vote', 'favour', 'Proposal.', 'The', 'required', 'be', 'taken', 'by', 'set', 'out', '(Action', 'Nominees', 'have', 'considered', 'COVID-19', 'Restrictions', 'currently', 'place', 'potential', 'public', 'holding', 'physical', 'meeting', 'Creditors,', 'concluded', 'that', 'restrictions', 'remain', 'place.', 'unlikely', 'able', 'attend', 'person,', 'possible', 'hold', 'without', 'legal', 'decision', 'way', 'particular', 'will', 'consider', 'effect', 'changes', 'may', 'allow', 'lawfully', 'held.', '(in', 'relation', 'Investor', 'Creditors)', 'Website', 'Non-Investor', 'Creditors).', 'A', 'letter', 'sent', 'all', 'Creditors.', 'can', 'their', 'existing', 'details', 'access', 'Platform', 'Decision', 'Procedure', 'electronic', 'voting.', 'complete', 'return', 'Notice', 'Claim', 'accordance', 'with', 'instructions', 'advance', 'Date.', 'contact', 'at', 'wellesleycva@duffandphelps.com.', 'completed', 'signed', 'order', 'enable', 'them', 'vote.', 'Once', 'uploaded,', 'then', 'cast', 'Please', 'note', 'votes', 'cannot', 'PLEASE', 'NOTE', 'THAT,', 'IN', 'ACCORDANCE', 'WITH', 'RULE', '15.31(8)', 'OF', 'THE', 'INSOLVENCY', 'RULES,', 'ONCE', 'VOTE', 'HAS', 'BEEN', 'CAST,', 'IT', 'CANNOT', 'BE', 'CHANGED.', 'must', 'placed', '23.59', 'on', 'Tuesday', '13', 'October', '2020.', 'Any', 'received', 'after', '2020', 'will_be', 'disregarded.', 'Wednesday', '14', 'included', 'within', 'Meeting', 'accordance_with', 'ability', 'continue', 'deliver', 'better', 'outcome', 'upon', 'CVA', 'being', 'approved', 'requisite', 'majority', 'Shareholder.', 'Payment', 'pursuant', '17', '(Compromised', 'Creditors’_Payment', 'Fund)', 'Preferred_Shares', 'applicable)', 'unless', 'has', 'submitted', 'before', 'Claims', 'Date', '180', 'days', 'Effective', 'Compromised', 'receive', 'greater', 'amount', 'owed', 'they', 'would', 'do', 'if', 'were', 'enter', 'administration.', 'Proposal', 'implemented,', 'likely', 'As', 'Proposal,', 'given', 'opportunity', 'alternative', 'cash', 'payment.', 'very', 'important.', 'take', 'time', 'documents', 'been', 'which', 'appropriate', 'claim', 'Creditor', 'who', 'respond', 'into', 'account', 'purposes', 'calculating', 'approved.', 'In', 'addition,', 'approved,', 'binding', 'including', 'those', 'did', 'voted', 'against', '24', 'September', 'NOTICE', 'FROM', 'DIRECTORS', 'PROPOSAL', 'Directors', 'Company.', 'relied', 'review', 'construed', 'legal,', 'business', 'tax', 'connection', 'consequences', 'proposed', 'professional', '1,', 'Parts', 'IV', 'general', 'provide', 'summary', 'terms', 'make', 'no', 'representations', 'warranties', 'give', 'described', 'implemented', 'outlined', 'revoked', 'suspended', 'admission', 'fact', 'matter', 'relating', 'respect', 'asset', 'entitled', 'it.', 'certain', 'statements', 'accuracy', 'completeness', 'These', 'typically', 'words', 'By', 'involve', 'risk', 'uncertainty', 'because', 'relate', 'circumstances', 'future.', 'Although', 'believe', 'expectations', 'reflected', 'prove', 'Without', 'limiting', 'generality', 'immediately', 'contained', 'estimated', 'outcomes', 'whether', 'consequence', 'only.', 'based', 'assumptions', 'necessarily', 'analysis', 'matters', 'referred', 'guidance', 'actual', 'made', 'aware', 'time.', 'Duff', '&', 'Phelps', 'withdrawn', 'written', 'consent', 'references', 'provided', 'context', 'herein.', 'authorised', 'person', 'concerning', 'made,', 'having', 'so', 'authorised.', 'Geoffrey', 'Bouchier', 'Robert', 'Armstrong', 'Ltd,', 'Shard,', '32', 'London', 'Bridge', 'Street,', 'London,', 'SE1', 'Court', 'that,', 'procedure;', 'unable', 'represent', 'third', 'party.', 'Key', 'Completion', 'Loan_Book', 'Sale', 'notice', 'date', 'via', 'voting', 'submit', 'Shareholder’s', 'Anticipated', 'Nominees,', 'persons', 'sought', 'Chairman', 'report', 'under', 'sections', '4(6A)', 'end', 'Challenge', 'Period', '10', 'November', 'First', 'payment', 'Fund', 'Second', 'June', 'forecast', 'distributions', 'December', 'All', 'times', 'dates', 'current', 'subject', 'expected', 'change', 'You', 'email', 'and/or', 'intended', 'following', 'Company;', 'request', 'copy', '5', 'above', 'writing', 'Phelps,', '9SG', '+44', '(0)', '207', '089', '4700.', 'staff', 'working', 'home.', 'For', 'recommend', 'requests', 'same', 'thereafter', 'TO', 'Details', 'how', 'require', 'assistance', 'necessary', 'SECTION', '...........................................................................................................................................', 'SUMMARY', '........................................................................................................', 'PART', 'INTRODUCTION', '....................................................................................................................', '35', 'ACTION', 'TAKEN', 'BY', 'SHAREHOLDER', 'III', 'CORPORATE,', 'STATUTORY', 'FINANCIAL', 'INFORMATION', 'TAX', 'DISCLAIMER', '48', '49', 'TERMS', 'SCHEDULE', 'CALCULATION', 'M1', 'CLAIMS,', 'M2', 'M3', 'PMB', 'CLAIMS', 'BORROWER', 'CORPORATE', '3', '4', 'ESTIMATED', 'OUTCOME', 'STATEMENT', 'SUPERVISORS’', 'ADDRESSES', 'FOR', 'NOTICES', '6', 'AVERAGE', 'DUFF', 'PHELPS', 'CHARGE', 'OUT', 'RATES', 'AFFAIRS', 'AS', 'AT', '23', 'SEPTEMBER', 'LIST', 'NON-CRITICAL', 'CREDITORS,', 'EMPLOYEES', 'CONTINGENT', '9', 'CRITICAL', '...................................................................................................................................', '109', 'CONVERTIBLE', 'PREFFERED', 'SHARE', 'SUBSCRIPTION', '11', '111', 'TRANSFER', 'ANALYSIS', '12', '119', 'REVIEWABLE', 'TRANSACTIONS', '129', 'DEED', 'RELEASE', '132', 'MINI', 'BOND', 'MATURITIES', '15', '135', 'BUSINESS', 'MODEL', 'PLAN', 'INVESTOR', 'longer', 'trade', 'going', 'concern,', 'result', 'statement', '(Schedule', 'particular,', 'table', 'below', 'summarises', 'category', 'comparison', 'administration', 'could', 'increased', 'future', 'over', 'see', 'Schedule', 'attached', 'Preferred', 'Shares.', '(p/£)', 'Administration', 'equivalent', '73', 'p', '£.', '25', 'Critical', 'Non-Critical', 'Borrowers', 'Contingent', 'claims', 'compromised', '£1', 'therefore', 'represents', \"Company's\", 'alternative,', 'action.', 'introduction', 'consideration', 'whole', 'Background', 'was', 'incorporated', '2012', 'trading', 'name', 'Property', 'Limited.', 'PLC', 'Group', 'whose', 'structure', 'shown', 'below.', 'Overview', 'operates', 'established', 'providing', 'secured', 'funding', 'commercial', 'borrowers', 'UK', 'residential', 'property', 'market.', 'lending', 'assets', 'funded', 'development.', 'Group’s', 'primary', 'finance', 'development', 'developments', 'demand', 'services', 'these', 'loans', 'one', 'roles', 'carried', 'model.', '(and', 'debt', 'but', 'instead', 'raised', 'through', 'sale', 'range', 'investment', 'products', 'retail', 'investors.', 'Such', 'historically', 'peer', 'unsecured', 'mini-bonds', 'listed', 'bonds.', 'created', 'opportunities', 'investors', 'offering', 'higher', 'returns', 'rates', 'products.', 'However,', 'number', 'recent', 'factors', 'had', 'prevent', 'raising', 'further', 'bond', 'issuances', 'significant', 'gap', 'around', '£61,000,000', 'Developments', 'impacted', 'service', 'respective', 'Loan', 'commitments,', 'which,', 'turn,', 'additional', 'cashflow', 'issues', 'servicing', 'interest', 'payments', 'non-maturing', 'investments', '£360k', '£550k', 'reasons', 'below,', 'maturities', 'It', 'pay', 'amounts', 'due', 'maturity', 'dates.', 'realised', 'restructuring', 'severe', 'Further', 'options', 'creditors', 'insolvency', 'scenario.', 'Documentation,', 'WST,', 'security', 'trustee,', 'control', 'Loans.', 'complex', 'structure,', 'WST', 'easily', 'to,', 'fund', 'commitments', 'present', 'two', 'options:', 'either', 'wind', 'down', 'distressed', 'marketed', 'and,', 'completion', 'marketing', 'process,', 'ultimately', 'sold', 'Cloverleaf.', 'distributed', 'various', 'classes', 'Secured', 'Security', 'Trust', 'Agreement.', 'there', 'proceeds', 'distribution', 'combination', 'liquidation,', 'best', 'Set', 'more', 'detail', 'interests', 'Company’s', 'Role', 'main', 'operating', 'companies', 'affiliated', 'role', 'includes', 'acting', 'servicer', 'Loans', 'whilst', 'Investors', 'Issued', 'Mini', 'Bonds', 'raise', 'Services', 'WACL', 'P2P', 'Holds', 'client', 'monies', 'accounts', 'arranged', 'bonds', 'since', 'February', '2019', 'WSF', 'Listed', 'admitted', 'Irish', 'Stock', 'Exchange', 'sole', 'issuing', 'Group.', 'granted', 'obligations', 'trust', 'trustee', 'programme', 'Agreement', 'Cloverleaf', 'Investment', 'capital', 'activities', 'funds', 'offered', 'customers', 'lending.', 'issuer', 'Bonds,', 'mini-bond', 'term.', 'issued', 'varying', 'fixed', 'term', 'rate', 'issuance', 'utilised', 'purposes,', 'Borrowers.', 'specifically', 'allocated', 'Bond', 'discretion', 'Given', 'nature', 'figures,', 'Under', 'Documentation', 'subordinated', 'behind', 'event', 'senior', 'counsel', 'about', 'liabilities', 'opinion', 'confirms', 'clear', 'therefore,', 'nothing', 'shortfall', 'realisations', 'PMB.', 'direct', 'underlying', 'also', 'paid', 'bank', 'operated', 'until', 'used', 'Sale,', 'balance', 'sheet', 'liability', 'rank', 'creditors,', 'There', 'matured', 'next', 'few', 'months.', 'calculation', 'Bonds.', '2015', 'entered', 'market', 'initial', 'repaid', 'full.', 'Following', 'WSF’s', 'application', 'acts', 'loan', '£500m', 'programme,', 'traded', 'Servicing', 'appointed', 'attorney', 'holds', 'Borrower', 'proportion', 'title', 'Company,', 'capacity', 'WSF,', 'directed', 'contingent', 'creditor', 'affect', 'knowledge', 'Bondholders,', 'worth', 'Peer', 'agent', 'held', 'segregated', 'example', 'monthly', 'interest,', 'advanced', 'Loan.', 'delegated', 'Agreement,', 'authority', 'Creditors’', 'so.', 'Notwithstanding', 'itself', 'Sale.', 'irrespective', 'actions', 'WACL,', 'treated', 'During', 'early', 'operation', 'external', 'company', 'called', 'Provision', 'Limited', 'making', 'discretionary', 'suffered', 'projected', 'loss', 'loans.', 'resources', 'manner', 'now', 'dormant', 'winding', 'noted', 'took', '2014', 'done', 'basis', 'only', 'formed', 'type', 'Lending', 'offers', 'committed', 'facilities', 'enters', 'facility', 'agreements', 'advances', 'retained', '(on', '(PMB)', 'syndication', '(for', 'Bondholders).', 'maintained', 'some', 'exposure', 'both', 'retain', 'participation', 'less', 'per', 'cent', 'matched', 'Where', 'meet', 'syndicated', 'PMB,', 'impact', 'model', 'source', 'past', 'years', 'P2P,', 'away', 'minibond', 'conditions', 'regulatory', 'however', 'temporary', 'intervention', 'came', 'January', 'period', 'minibonds', 'Whilst', 'introduced', '2020,', 'FCA', 'intention', 'extend', 'include', 'proposals', 'CP', '(which', 'affected', 'business,', 'requirement', 'drawdown', 'respectively.', 'repay', 'Investments', 'date.', 'Shoosmiths', 'affairs', 'contingency', 'focussed', 'Group,', 'documentation', 'support', 'following:', 'flow', 'requirements', 'short', 'options,', 'determined', 'CVA.', 'power', 'Loans;', 'scenario', 'need', 'identify', 'strategy', 'maximise', 'value', 'obtained', 'quickly', 'practical', 'Book.', 'utilise', 'redemption', 'anticipated', 'mean', 'are:', 'breaches', 'insufficient', 'terminating', 'contractual', 'recovery', 'applicable', 'WST.', 'Furthermore,', 'purchasers', 'parties', 'most', 'reflect', 'limited', 'reduced', 'investor', 'fall', 'decided', 'process', 'August', 'related', 'live', 'loans,', '16', 'three', 'provisions', 'small', 'receivables', 'land', 'book', 'sale.', 'transfer', 'entities', 'subsidiary', 'group,', 'Team', 'process.', 'agreement', 'data', 'key', 'pertaining', 'management', 'resulted', 'confirmed', 'parties,', 'Bidder', 'Terms', 'bid', 'technical', 'point', '28', 'offer,', '30', 'diligence', 'approval', 'selling', 'parties.', 'achieved', 'On', 'Loans,', 'portfolio', 'series', '31', '2021.', 'transferred', 'generated', 'Bondholders', 'secure', 'deferred', 'of:', 'preferred', 'transaction', 'highest', 'price', 'Book,', 'transact', 'newly', 'undertaking', 'vary', 'case', 'interested', 'important', 'up', 'weeks', 'exception', 'cease', 'liquidation.', 'ongoing', 'challenge', 'willing', 'proceed', 'later', 'once', 'became', 'agreed', 'payable', 'debenture', 'obligations.', 'guarantee', 'Cloverleaf’s', 'charge', 'shares', 'compromised.', 'pro-rata', 'between', 'P2P)', 'crystallised', 'outside', 'overall', 'fees', 'income', 'fee', 'assist', 'contribution', 'creditors.', 'structuring', 'Bondholders)', 'New', 'Business', 'challenged', 'position', 'settlement', 'inter-co', 'purchase.', 'entity', 'closed.', 'already', 'go', 'solvent', 'when', 'appropriate.', 'To', 'course', 'first', 'WGIL', 'WGL', 'company,', 'WBCL', 'repaid.', 'Accordingly,', 'look', 'accept', 'together', 'new', 'approach', 'involved', 'issue', 'Shares,', 'private', 'rather', 'transactions', 'rise', 'possibility', 'liquidator', 'administrator', 'section', '238', 'undervalue),', '239', '(preference),', '244', '(extortionate', 'credit', '245', 'floating', 'Act.', 'Summary', 'combined', 'taking', 'lower', 'administrators', 'enforcement', 'work', 'equity', 'breach', 'Book_Sale', 'Directors,', 'resulting', 'Investors,', 'wish', 'compromise', 'arise', 'company’s', 'failure', 'compromises', 'ordinary', 'business.', 'suffer', 'notified', 'intends', 'non-executive', 'directors', 'kept', 'informed', 'what', 'proposed.', 'option', 'voluntary', 'arrangement', 'principal', 'objectives', 'properties', 'projects', 'enables', 'redeemed', 'enhanced', 'Obtaining', 'arrangements', 'achieve', 'Sale;', 'element', '(to', 'extent', 'acquiring', 'elect', '£', 'distribution;', 'satisfaction', 'i.', '58%', '(fifty-eight', 'percent)', 'Allowed_CVA', 'relevant', 'Creditor;', '73%', '(seventy-three', 'Creditor.', 'Claim,', 'elected', 'expiry', 'Election', 'Period.', 'entitle', 'holder', 'percentage', 'distributable', 'reserves', 'reserves.', 'They', 'non-voting', 'transferrable.', 'rights', 'Period,', 'sum', 'lose', 'right', 'a.', 'day', 'during', 'withdrawn,', 'resolved', 'b.', 're-registration', 'company.', 'settled', '(see', '17).', 'variation.', 'cent)', '(one', 'Supervisors', '1%', 'Claim.', 'notify', 'Creditor:', 'full', 'exist', 'Borrower.', '£1,', 'demand.', 'Employees', 'Employee', 'Preferential', 'Liability', 'Employee.', 'discharged', 'unaffected', 'affects', 'statutory', 'NIF.', 'concern.', 'in,', 'commencing', 'approving', 'resolution', 'approve', 'arrangement.', 'prevail,', 'shareholder', 'Arrangement).', 'precedence', 'parts', 'Tax', 'Information)', 'completion.', '2021', 'settle', 'Act,', 'arrangement,', 'considers', 'desirable', 'borrowers.', 'Investors.', 'purchaser', 'directly', 'continued', 'arising', 'CVA,', 'agree', 'debts', 'requires', 'half', 'creditors:', 'where', 'he', 'connected', 'virtue', 'Regulation', '(other', 'obliged', 'UK.', 'court', 're', 'beginning', 'state', 'soon', 'reasonably', 'practicable', 'receipt', 'fully', 'implemented.', 'determine', 'Liabilities', 'restore', 'viability', 'improve', 'paragraph', '2.2', '(fifty', 'eight', 'alternatively', 'elect,', '(seventy', 'Creditor’s', 'calculated', '(Calculation', 'Claims).', 'claim.', 'waive', 'continuing', 'novated', 'benefit', 'successful', 'implementation', 'commenced', 'help', 'prepare', 'administration,', 'substantially', 'Estimated', 'Outcome', 'Statement', 'assumed', 'failing', 'significantly', 'pence', 'elected,', 'liquidation', 'participate', 'entitlement', 'Director', 'above.', 'convener', 'modification', 'accepted', 'Paragraph', 'Employees)', 'Rule', '15.33', 'Rules,', 'ascertain', 'his', 'evidence', 'figure', 'provides', 'Convener', 'unliquidated', 'amount,', 'accordingly,', 'rule', 'applies', 'wishing', 'admit', 'reject', 'accordingly.', 'subsequently', 'Employees.', 'be)', 'purposes)', 'agrees', 'put', 'sums', 'Claims,', 'methodology', 'Meeting.', 'Voting', 'shares.', 'light', 'essential', 'reason', 'Information).', '(Statutory', 'Financial', 'Claims.', '(including', 'Claim”', 'means,', 'final', 'means', 'profits', 'meaning', 'case,', 'every', 're-enactment', 'thereof', 'force).', 'borrower', '“Borrower', 'Creditor”', 'whom', 'originated', 'Sunday', 'holiday', 'England', 'Wales.', '6(1)', '6(3)(a)', 'Date”', '376', 'send', '(Completion', 'Termination', 'CVA).', 'Liquidation', 'dividend', '“Compromised', 'Creditors”', 'Non-', '(The', 'means:', 'Creditors\"', '\"Contingent', 'Liability”', '(Rights', 'Third', 'Parties)', 'Act”', 'coronavirus', '“COVID-19', 'March', 'law,', 'action,', 'instruction', 'published', 'relates', 'owes', 'Liability).', '“Critical', ',', 'Date,', 'facilitate', '(List', 'Arrangements”', 'contract,', 'agreement,', 'relationship', 'arises.', '“CVA', 'proceedings', '\"CVA', 'Claim\"', 'Liability.', 'End', 'Creditor,', 'provable', 'Related', 'Event\"', 'proposed,', 'deemed', 'Proposal;', '“Decision', 'either:', '15.3', 'Rules.', 'deed', 'release', 'Andrew', 'Joseph', 'John', 'Turnbull', 'Rt', 'Viscount', 'Dangan', 'Garret', 'Graham', 'Wellesley,', 'portion', '“Disputed', 'clause', '(Disputed', '(company', 'registered', 'office', 'Limited,', 'No.', '29', 'May', 'employees', 'employed', 'them.', 'reference', 'WG', 'Conduct', 'Authority', 'plus', 'excluding', 'Revenue', '“Insolvency', 'amended', 'time).', '2016', '“Investment', 'Documentation”', 'Bond,', 'raised,', 'lease', 'dated', '(1)', '(2)', 'tenant', '(3)', 'House,', 'obligation', 'arises', 'act', 'limitation', 'whatsoever', 'prior', '“Listed', 'restated', 'origination', 'July', '2017', 'amendments', 'variation', 'governing', 'Bondholders.', 'Bonds”', 'exchange', 'WSF.', '“Loan', 'entire', 'Book', 'Sale”', 'Agreement”', 'restatement', '(4)', 'servicer.', 'Documentation.', 'instrument', '2018),', 'holders', '“Mini', '“Non-Critical', '“Notice', 'located', 'assumption', 'platform', '“P2P', 'P2P.', 'Lender', 'lender', 'obtain', 'mini', '“PMB', '“Preferential', 'Liabilities.', 'preferential', '“Preferred', 'detailed', 'schedule', '“Prescribed', '“Proposal”', 'Directors’', '\"Secured', '248', 'Assets', 'April', '2017,', '27', 'Haymarket,', 'SW1Y', 'clauses', 'governed', 'class', 'share', 'Affairs', 'jointly', 'supervisor(s)', 'added', 'Value', 'Co', '(CRN:', 'website', 'provision', 'force', 'corporation', 'agency', 'shall,', 'firm', 'firms,', 'fellow', 'members,', 'partners', 'employees,', 'partnership', 'employee', 'shareholder,', 'Meeting,', 'hereby', 'acknowledges', 'Supervisors’', 'costs', 'incurred', 'Vehicles', '(whether', 'determination', 'judgment', 'jurisdiction', 'Date;', 'jurisdiction.', 'self-help', 'remedy', 'relief', 'applicable),', 'avoidance', 'right,', 'effected', '(including,', 'doubt,', 'of,', 'Amount,', 'given,', 'save', 'Amount', 'becoming', 'Amounts', 'notice,', 'consents', 'endorse', 'under,', 'claim,', 'set-off,', 'a)', 'waives', 'releases', 'defaults', 'obligation,', 'Event', 'b)', 'c)', 'entitled,', 'enforce', 'otherwise.', '(“Compromised', 'Amount”)', 'Platform,', 'receiving', 'necessary,', 'Vehicle', 'entity,', 'Arrangement', 'Event;', 'deposit', 'Arrangements;', 'iii', 'impose', 'onerous', 'Creditors;', 'above)', 'unenforceable.', 'practices', 'perform', 'payments,', 'charges', 'affect,', 'absolutely', 'party', 'assets,', 'Disputed', '1.', 'earlier', 'default', 'reasonable', 'Supervisors.', 'except', 'applicable,', 'claimed', 'doing', 'supporting', 'may,', 'giving', 'seven', 'chartered', 'reports', '(but', 'absence', 'bear', 'sufficient', 'costs,', 'expenses', 'disbursements', 'CVA),', 'discretion,', 'shorter', 'Supervisors,', 'behalf', 'Fund.', 'address;', 'time,', 'post', 'last', 'known', 'good', 'addition', 'error', 'delay', 'pounds', 'close', '(Supervisors', 'Addresses', 'Notices)', 'qualified', 'powers', 'terms.', 'foregoing,', 'carry', 'duties', 'responsibilities', 'conduct', 'consider,', 'functions;', 'indemnity', 'collateral', 'permits', 'using', 'prejudice', 'brought', 'carrying', 'escrow', 'associated', '(acting', 'modified', 'implementing', 'charged', 'invoice', 'turn', 'remains', 'unpaid', '45', 'irrevocably', 'appoint', 'Supervisor', 'so,', '(without', 'CVA;', 'modifications', 'materially', 'economic', 'substance', 'absolute', 'terminate', 'termination', 'alters', 'No', 'procedure', 'accompanied', '(or', 'to:', 'modification;', 'Employees,', 'delivered', 'above,', 'appointment', 'liquidators', 'fails', 'notice.', 'never', 'including)', 'execute', 'whereby', 'receipt,', 'occurs', 'Saturday,', '5:30', 'p.m.', 'Day', '9:30', 'a.m.', 'Day.', 'address,', 'facsimile', 'address', '(ii)', 'duly', 'executed', 'legally', 'advisers', 'nor', 'personal', 'VALUATION', 'total', 'outstanding', 'immediate', 'Borrowers’', 'Name:', 'Registered', '2013', '-', 'Ordinary', 'Unsecured', 'Prescribed', 'realisation', 'continuation', 'antecedent', 'disbursements.', '–', 'Notes', 'Cash', 'Bank', 'Other', 'Total', 'pledged', 'Less:', '/', 'Unpledged', 'Consideration', 'Intangible', 'Subsidiary', 'Expenses', 'Intercompany', 'Bridging', '374', '375', 'intercompany', 'balances', 'Recovery', 'Administrator', 'Contributions', 'Costs', 'Fee', 'Legal', 'Fees', 'Funds', 'Available', 'Accruals,', 'Sundry', 'Return', '(pence', 'pound)', 'Shortfall', '(\"PMB\")', 'Series', '(Capital', 'Interest)', '(\"M1\")', 'Non-critical', 'Deficit', 'Subordinated', 'Capital', '(\"M2\")', '(\"M3\")', 'group', 'companies.', 'cessation', 'disposal', 'book.', 'well', 'companies,', 'Administration.', 'C376,', 'contractually', 'Beneficial', 'holders,', '(“the', 'Below', 'Owners', 'redemptions', 'result,', 'ownership', 'according', 'C376.', 'Realise', 'view', 'C376', 'would,', 'reliance', 'WF', '£40m', 'adjusted', '£250k', 'adjustment', 'ERV', 'loan.', 'previously', 'nil', 'realisable', 'rolled', 'forward', 'believed', 'historic', 'costs.', 'several', 'mentioned', 'refers', 'level', 'ensure', 'cost', 'paying', 'anticipate', 'inter', 'contribute', 'towards', 'recently', 'payroll', 'contracts', 'WGIL.', 'repayment', 'WGL,', 'accrued', 'loan,', 'pre-paid,', 'enough', 'WF.', 'although', 'distribute', 'claims.', 'inter-company', 'valued', 'scenario,', 'purchase', 'WISL', 'residual', 'invest', 'Urban', 'Exposure', 'plc', 'shareholding', 'RNS', 'entering', 'stated', 'shareholders', 'month', 'period.', 'refined', '90%', 'latter', 'lead', 'regular', 'deal', 'rate.', 'long', 'value.', 'size', 'Project', 'orderly', 'estimate', 'losses', 'One', 'indicative', '£2.4m', 'different', 'Antecedent', 'Transactions,', 'EOS', '2016.', 'Should', 'Administration,', 'redundant', 'arrears', 'wages', 'capital,', 'interest.', 'forward,', 'demonstrate', 'Development', 'Address', 'Notices', 'wellesleycva@duffandphelps.com', '4QX', 'Senior', 'Manager', 'ASSETS', 'LIABILITIES', '-_-', '(deficiency)/surplus', 'regards', 'prescribed', 'net', '(excluding', 'Wales', '6th', 'St', 'Albans', '57/59', 'nominal', 'Share', 'meetings', 'pre-emption', 'excess', 'Hurdle', 'applied', 'redeem', '50%', 'Profits', 'always', 'Par', 'preference', 'remaining', 'satisfy', 'pro', 'rata', 'held;', 'contemplation', 'least', 'Parties', 'Recitals', 'Issuer', 'owns', 'primarily', 'Trustee', 'Agreements', 'Primary', 'Servicer', 'Special', 'Definitions', '\"Borrower', 'Documents', 'Obligors', 'Intercreditor', 'Appointment', '(clause', 'administer', 'Issuer,', 'Documents,', '(vii)', 'prepayment', 'acquisition', 'itself,', '2018', 'Originator', 'underwritten', 'limitation,', 'Party', 'trusts', 'beneficiaries', 'Lender)', 'writing,', 'undertakes', 'direct)', 'Days', 'Loan(s)', '“Third', 'Lenders', 'Lender”', 'Transfer', 'Lender’s', 'Term', 'money', '9.13', 'another', 'Interest', 'beneficial', 'funded.', 'acted', 'Agreements”', '(i.e.', 'novate', 'PMB)', '“give', 'Creditor’s]', '[WST]', 'party”', 'Agreement)', 'things', 'bare', '(being', 'developed', 'matched.', 'responsible', 'When', 'redeemed,', 'cover', 'lending,', 'thus', 'ensuring', 'identified', 'values', 'large', 'across', 'become', 'Programme', 'Account', 'material', 'planned', '2022.', 'position,', 'led', 'daily', 'arrange', 'entitlement.', 'Over', 'lent', '1pm', 'balance.', 'invested', 'acquired', 'still', 'below).', 'Mr', 'Wellesley.', 'reduction', 'directors’', 'shows', 'Wellesley’s', 'resources.', 'buy', 'enabled', 'successfully', 'mismatch', 'bought', 'back', 'happened', 'repayments', 'target', 'allowed', 'Year', 'full,', 'suspend', 'average', 'Payments', 'largely', 'regulated', 'expense', '£1.8m', 'FCA.', 'WELLESLEY', 'FINANCE', 'LIMITED', 'Floor', '08738060)', 'With', 'Released', 'Deed', 'English', ')', 'Highlights', 'real-estate', 'capabilities', 'sourcing', 'managing', 'changing', 'run', 'developers', 'addressing', 'housing', '15,000', 'dealing', 'focussing', 'quality', 'agreement.', 'benefits', 'experience', 'originating', 'strategic', 'Cost', 'mixture', 'move', 'space', 'effective', 'Case', 'assumes', 'chose', 'mix', '1:', 'Input', 'Table:', '(GBP', \"000's)\", '14,000', '8,000', 'Contribution', 'Outstanding', '(12,923)', 'Profit', 'Loss', 'Items', '(Interest', 'Income', 'Lending)', '1,240', '3,576', '3,850', '3,554', '3,457', '(Commission', '376)', '318', '607', 'Distribution', '18,000', '5,156', '2,656', '300', 'Overhead', '(4,472)', '(1,004)', '(1,014)', '(963)', '(976)', 'Operating', '(69)', '(2,625)', '20,607', '7,992', '5,246', '2,782', 'Adjusted', 'Profit*', '(505)', '634', 'Receipts', 'Proceeds', 'Orb', '12,937', 'Rock', '3,728', '10,000', '(10,000)', 'Pref', 'buy-back', '(6,681)', '*Excludes', 'write-offs', 'gains', 'restructure', 'returns:', '2:', '(17,301)', '4,250', '4,773', '5,457', '26,000', '(500)', '8,915', '28,607', '3,236', '3,310', '4,781', '(15,000)', 'choose', 'LTD', 'Current', 'Balance', '59,577', '10,813', 'Deferred', '(', '£45m)', '(36,913)', 'Book)', '1,697', '3,663', '247', 'Finance)', '(318)', '(607)', '(35)', '(2,656)', '(300)', '(7)', '(2,028)', '(28)', '1,372', '1,029', '(8,103)', '500', 'Sheet:', 'Non-Current', 'Advances', 'Customers', '(New', '15,240', '25,817', '1,251', '579', '20,455', '832', '2,582', '4,332', '22,285', '518', '422', '326', '230', '134', '38', 'payables', '(other)', '468', '918', '1,245', 'Net', '/(Liabilities)', '8,843', '8,162', '27,737', '28,008', '25,549', '27,319', 'Represented', 'SHAREHOLDERS', 'FUND', '13,412', '50', 'Retained', 'Earnings', 'B/F', '(12,561)', '(681)', '19,575', '6,952', '4,222', '1,770', 'Equity', 'Comprehensive', 'Income:', '9,006', '6,210', '3,757', '1,847', 'Administrative', 'expenses*', '(823)', '(1,213)', 'Gains', '(Losses)', 'Associated', 'Restructure', 'Impairment', '(17,024)', '(3,258)', 'Profit/(loss)', 'operations', 'taxation', 'attributable', '(net)', '11,128', '1,944', '(1,032)', '(1,040)', '(1,024)', '(1,012)', 'comprehensive', 'income/(loss)', 'period,', '*Administrative', 'gain', 'extinguishing', '4,465', '3,784', '31,359', '33,530', '35,804', '39,561', '27,575', '2,172', '2,274', '4,273', '5,757', '(1,064)', '(1,036)']\n"
     ]
    }
   ],
   "source": [
    "# print(model)\n",
    "words = list(model.wv.vocab)\n",
    "print(words)"
   ]
  },
  {
   "cell_type": "code",
   "execution_count": 117,
   "metadata": {},
   "outputs": [
    {
     "name": "stdout",
     "output_type": "stream",
     "text": [
      "[ 5.46224341e-02  6.77293018e-02  1.01742223e-01  4.06978354e-02\n",
      " -1.76562686e-02 -1.77672156e-03 -2.51807664e-02 -7.66789764e-02\n",
      " -2.93093210e-04  8.03943872e-02 -5.48743606e-02 -5.45415953e-02\n",
      "  5.37305772e-02 -7.61697441e-02 -5.99808991e-02 -6.39456185e-03\n",
      "  1.86587479e-02  3.57504264e-02 -6.07787743e-02  6.29118755e-02\n",
      " -2.23580729e-02 -3.44069935e-02 -1.08535714e-01  7.53645524e-02\n",
      " -6.34197593e-02 -2.97993831e-02 -1.71313677e-02 -1.39200184e-02\n",
      " -2.70682573e-02 -1.21796345e-02  6.53347746e-02 -6.02977872e-02\n",
      " -1.55868623e-02 -2.44250409e-02  1.18750455e-02  7.33246058e-02\n",
      " -5.58605865e-02 -9.11274552e-02  1.22223906e-02  1.93641111e-02\n",
      "  4.12492454e-02 -2.55019702e-02 -8.88713747e-02  3.78188267e-02\n",
      " -1.17689483e-02  3.34106945e-02  7.78735206e-02 -2.78493352e-02\n",
      " -1.33253276e-01 -1.31254112e-02  9.02257711e-02 -9.57330398e-04\n",
      "  8.61839801e-02 -4.61854227e-02 -7.14573786e-02 -2.54844353e-02\n",
      "  1.05094694e-01  1.04558095e-01  7.87011981e-02  6.14059344e-02\n",
      "  2.66340859e-02  2.57817749e-02  7.42781460e-02  1.74301751e-02\n",
      " -3.24246436e-02 -1.27929896e-01 -3.37054245e-02 -3.72803095e-03\n",
      " -8.47384483e-02 -1.40765965e-01  2.23077238e-02 -1.85351586e-03\n",
      "  3.17865354e-03 -3.11719868e-02  2.29285583e-02  3.74655984e-02\n",
      " -9.58072022e-02 -7.42690489e-02 -1.90888178e-02  1.01004764e-01\n",
      " -8.92725736e-02  1.04630828e-01 -1.18119806e-01  1.51672158e-02\n",
      " -3.58760394e-02 -9.11691040e-02  3.41603532e-02  1.01824873e-03\n",
      " -4.77180146e-02 -5.59328571e-02 -5.80701306e-02  3.50821503e-02\n",
      "  4.48698550e-02  3.69327143e-02  4.08703499e-02 -5.82140172e-04\n",
      " -8.07433501e-02  6.69421107e-02  1.98599156e-02  7.69503182e-03\n",
      " -6.54508770e-02  9.31136832e-02 -1.51263521e-04  7.22656958e-03\n",
      "  5.75636327e-02 -7.34171197e-02 -1.10447735e-01  3.81566025e-02\n",
      " -9.96569544e-02 -6.87579811e-03  2.55751252e-01  3.20770964e-02\n",
      " -1.98802091e-02  8.09933816e-04  2.84991655e-02  5.05208187e-02\n",
      "  8.98973569e-02 -7.62707368e-02  7.72680864e-02 -2.31133234e-02\n",
      " -1.19708404e-02 -8.41959789e-02  5.00994734e-03 -4.20935303e-02\n",
      " -4.06519175e-02  1.51041504e-02 -8.56023747e-03 -4.62187827e-02\n",
      "  7.13120624e-02  1.52518824e-02  8.52743313e-02  4.72523309e-02\n",
      "  7.74638951e-02  6.26583993e-02 -4.00186479e-02 -2.99809687e-02\n",
      " -2.14654654e-02 -3.18840593e-02 -6.63127974e-02 -1.11204684e-01\n",
      " -2.70166732e-02  8.11851248e-02  1.43299907e-01 -5.40551031e-03\n",
      " -8.19183961e-02  4.78956848e-02  6.67232816e-05  1.69828534e-03\n",
      " -9.08568688e-03 -7.47586936e-02]\n"
     ]
    }
   ],
   "source": [
    "print(model['insolvency'])"
   ]
  },
  {
   "cell_type": "code",
   "execution_count": 215,
   "metadata": {},
   "outputs": [
    {
     "data": {
      "text/plain": [
       "7"
      ]
     },
     "execution_count": 215,
     "metadata": {},
     "output_type": "execute_result"
    }
   ],
   "source": [
    "vocab_item =  model.wv.vocab['insolvency']\n",
    "vocab_item.count"
   ]
  },
  {
   "cell_type": "code",
   "execution_count": 119,
   "metadata": {},
   "outputs": [
    {
     "data": {
      "image/png": "[encoded data removed]",
      "text/plain": [
       "<Figure size 1440x1080 with 1 Axes>"
      ]
     },
     "metadata": {
      "needs_background": "light"
     },
     "output_type": "display_data"
    }
   ],
   "source": [
    "from sklearn.decomposition import PCA\n",
    "pca = PCA(n_components=2)\n",
    "X = model[model.wv.vocab]\n",
    "result = pca.fit_transform(X)\n",
    "# create a scatter plot of the projection\n",
    "pyplot.scatter(result[:, 0], result[:, 1])\n",
    "pyplot.show()"
   ]
  },
  {
   "cell_type": "code",
   "execution_count": 216,
   "metadata": {},
   "outputs": [
    {
     "name": "stdout",
     "output_type": "stream",
     "text": [
      "2482\n",
      "['THIS', 'IMPORTANT', 'AND', 'If', 'you', 'are', 'in', 'any', 'doubt', 'as', 'to', 'the', 'action', 'should', 'seek', 'your', 'own', 'independent', 'advice', 'from', 'a', 'or', 'financial', 'an', 'accountant', 'This', 'document', 'does', 'not', 'constitute', 'form', 'part', 'of', 'offer', 'invitation', 'sell', 'acquire', 'Shares', 'other', 'securities', 'Wellesley', 'Finance', 'Plc', 'information', 'is', 'otherwise', 'available', 'use', 'it', 'contains']\n"
     ]
    }
   ],
   "source": [
    "words = list(model.wv.vocab)\n",
    "print(len(words))\n",
    "print(words[:50])"
   ]
  },
  {
   "cell_type": "code",
   "execution_count": 219,
   "metadata": {},
   "outputs": [],
   "source": [
    "pyplot.rcParams[\"figure.figsize\"] = 20,15"
   ]
  },
  {
   "cell_type": "code",
   "execution_count": 221,
   "metadata": {},
   "outputs": [
    {
     "data": {
      "text/plain": [
       "0.9976705"
      ]
     },
     "execution_count": 221,
     "metadata": {},
     "output_type": "execute_result"
    }
   ],
   "source": [
    "model.similarity('insolvency', 'Wellesley')"
   ]
  },
  {
   "cell_type": "code",
   "execution_count": 222,
   "metadata": {},
   "outputs": [
    {
     "data": {
      "text/plain": [
       "[('following:', 0.9553602933883667),\n",
       " ('matched.', 0.9443317651748657),\n",
       " ('admission', 0.9415936470031738),\n",
       " ('relief', 0.9308170080184937),\n",
       " ('originated', 0.9072624444961548),\n",
       " ('informed', 0.7635080218315125),\n",
       " ('pence', 0.5272408127784729),\n",
       " ('originating', 0.31890958547592163),\n",
       " ('Subsidiary', 0.26129046082496643),\n",
       " ('Definitions', 0.1299533098936081)]"
      ]
     },
     "execution_count": 222,
     "metadata": {},
     "output_type": "execute_result"
    }
   ],
   "source": [
    "model.most_similar(negative=['insolvency'])"
   ]
  },
  {
   "cell_type": "code",
   "execution_count": 223,
   "metadata": {},
   "outputs": [
    {
     "data": {
      "text/plain": [
       "[('Security', 0.9994882345199585),\n",
       " ('than', 0.9994832873344421),\n",
       " ('all', 0.9994821548461914),\n",
       " ('over', 0.9994820356369019),\n",
       " ('legal', 0.9994807839393616),\n",
       " ('further', 0.9994783401489258),\n",
       " ('WACL', 0.9994767308235168),\n",
       " ('Clause', 0.9994748830795288),\n",
       " ('from', 0.9994745850563049),\n",
       " ('funding', 0.9994733333587646)]"
      ]
     },
     "execution_count": 223,
     "metadata": {},
     "output_type": "execute_result"
    }
   ],
   "source": [
    "model.most_similar(positive=['insolvency'])"
   ]
  },
  {
   "cell_type": "code",
   "execution_count": 224,
   "metadata": {},
   "outputs": [
    {
     "data": {
      "image/png": "[encoded data removed]",
      "text/plain": [
       "<Figure size 1440x1080 with 1 Axes>"
      ]
     },
     "metadata": {
      "needs_background": "light"
     },
     "output_type": "display_data"
    }
   ],
   "source": [
    "import numpy as np\n",
    "labels = []\n",
    "count = 0\n",
    "max_count = 100\n",
    "X = np.zeros(shape=(max_count,len(model['insolvency'])))\n",
    "\n",
    "for term in list(model.wv.vocab):\n",
    "    X[count] = model[term]\n",
    "    labels.append(term)\n",
    "    count+= 1\n",
    "    if count >= max_count: break\n",
    "\n",
    "# It is recommended to use PCA first to reduce to ~50 dimensions\n",
    "from sklearn.decomposition import PCA\n",
    "pca = PCA(n_components=50)\n",
    "X_50 = pca.fit_transform(X)\n",
    "\n",
    "# Using TSNE to further reduce to 2 dimensions\n",
    "from sklearn.manifold import TSNE\n",
    "model_tsne = TSNE(n_components=2, random_state=0)\n",
    "Y = model_tsne.fit_transform(X_50)\n",
    "\n",
    "# Show the scatter plot\n",
    "import matplotlib.pyplot as plt\n",
    "plt.scatter(Y[:,0], Y[:,1], 20)\n",
    "\n",
    "# Add labels\n",
    "for label, x, y in zip(labels, Y[:, 0], Y[:, 1]):\n",
    "    plt.annotate(label, xy = (x,y), xytext = (0, 0), textcoords = 'offset points', size = 10)\n",
    "\n",
    "plt.show()"
   ]
  },
  {
   "cell_type": "code",
   "execution_count": null,
   "metadata": {},
   "outputs": [],
   "source": []
  }
 ],
 "metadata": {
  "kernelspec": {
   "display_name": "nlpiaenv",
   "language": "python",
   "name": "nlpiaenv"
  },
  "language_info": {
   "codemirror_mode": {
    "name": "ipython",
    "version": 3
   },
   "file_extension": ".py",
   "mimetype": "text/x-python",
   "name": "python",
   "nbconvert_exporter": "python",
   "pygments_lexer": "ipython3",
   "version": "3.6.9"
  }
 },
 "nbformat": 4,
 "nbformat_minor": 2
}
