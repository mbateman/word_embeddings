{
 "cells": [
  {
   "cell_type": "code",
   "execution_count": 2,
   "metadata": {},
   "outputs": [],
   "source": [
    "import pandas as pd"
   ]
  },
  {
   "cell_type": "code",
   "execution_count": 20,
   "metadata": {},
   "outputs": [],
   "source": [
    "creditors = pd.read_csv('creditors.csv')\n",
    "creditors.columns = ['Id', 'Product', 'Amount Owed']\n",
    "creditors['Id'] = creditors['Id'].str.upper()"
   ]
  },
  {
   "cell_type": "code",
   "execution_count": 21,
   "metadata": {},
   "outputs": [
    {
     "data": {
      "text/html": [
       "<div>\n",
       "<style scoped>\n",
       "    .dataframe tbody tr th:only-of-type {\n",
       "        vertical-align: middle;\n",
       "    }\n",
       "\n",
       "    .dataframe tbody tr th {\n",
       "        vertical-align: top;\n",
       "    }\n",
       "\n",
       "    .dataframe thead th {\n",
       "        text-align: right;\n",
       "    }\n",
       "</style>\n",
       "<table border=\"1\" class=\"dataframe\">\n",
       "  <thead>\n",
       "    <tr style=\"text-align: right;\">\n",
       "      <th></th>\n",
       "      <th>Id</th>\n",
       "      <th>Product</th>\n",
       "      <th>Amount Owed</th>\n",
       "    </tr>\n",
       "  </thead>\n",
       "  <tbody>\n",
       "    <tr>\n",
       "      <th>8468</th>\n",
       "      <td>IG00329109</td>\n",
       "      <td>M3</td>\n",
       "      <td>110</td>\n",
       "    </tr>\n",
       "    <tr>\n",
       "      <th>8469</th>\n",
       "      <td>JF00329384</td>\n",
       "      <td>M3</td>\n",
       "      <td>5603</td>\n",
       "    </tr>\n",
       "    <tr>\n",
       "      <th>8470</th>\n",
       "      <td>SB00329406</td>\n",
       "      <td>M3</td>\n",
       "      <td>10088</td>\n",
       "    </tr>\n",
       "    <tr>\n",
       "      <th>8471</th>\n",
       "      <td>HF00329450</td>\n",
       "      <td>M3</td>\n",
       "      <td>22753</td>\n",
       "    </tr>\n",
       "    <tr>\n",
       "      <th>8472</th>\n",
       "      <td>DR00329461</td>\n",
       "      <td>M3</td>\n",
       "      <td>101</td>\n",
       "    </tr>\n",
       "  </tbody>\n",
       "</table>\n",
       "</div>"
      ],
      "text/plain": [
       "              Id Product  Amount Owed\n",
       "8468  IG00329109      M3          110\n",
       "8469  JF00329384      M3         5603\n",
       "8470  SB00329406      M3        10088\n",
       "8471  HF00329450      M3        22753\n",
       "8472  DR00329461      M3          101"
      ]
     },
     "execution_count": 21,
     "metadata": {},
     "output_type": "execute_result"
    }
   ],
   "source": [
    "creditors.tail()"
   ]
  },
  {
   "cell_type": "code",
   "execution_count": 26,
   "metadata": {},
   "outputs": [
    {
     "data": {
      "text/html": [
       "<div>\n",
       "<style scoped>\n",
       "    .dataframe tbody tr th:only-of-type {\n",
       "        vertical-align: middle;\n",
       "    }\n",
       "\n",
       "    .dataframe tbody tr th {\n",
       "        vertical-align: top;\n",
       "    }\n",
       "\n",
       "    .dataframe thead th {\n",
       "        text-align: right;\n",
       "    }\n",
       "</style>\n",
       "<table border=\"1\" class=\"dataframe\">\n",
       "  <thead>\n",
       "    <tr style=\"text-align: right;\">\n",
       "      <th></th>\n",
       "      <th>Id</th>\n",
       "      <th>Product</th>\n",
       "      <th>Amount Owed</th>\n",
       "    </tr>\n",
       "  </thead>\n",
       "  <tbody>\n",
       "    <tr>\n",
       "      <th>759</th>\n",
       "      <td>ZZ00120076</td>\n",
       "      <td>PMB</td>\n",
       "      <td>4789</td>\n",
       "    </tr>\n",
       "    <tr>\n",
       "      <th>582</th>\n",
       "      <td>ZS00064999</td>\n",
       "      <td>PMB</td>\n",
       "      <td>5491</td>\n",
       "    </tr>\n",
       "    <tr>\n",
       "      <th>7568</th>\n",
       "      <td>ZS00064999</td>\n",
       "      <td>M3</td>\n",
       "      <td>1099</td>\n",
       "    </tr>\n",
       "    <tr>\n",
       "      <th>5442</th>\n",
       "      <td>ZS00064999</td>\n",
       "      <td>M2</td>\n",
       "      <td>22435</td>\n",
       "    </tr>\n",
       "    <tr>\n",
       "      <th>4039</th>\n",
       "      <td>ZS00064999</td>\n",
       "      <td>M1</td>\n",
       "      <td>13848</td>\n",
       "    </tr>\n",
       "    <tr>\n",
       "      <th>2497</th>\n",
       "      <td>ZP00332761</td>\n",
       "      <td>PMB</td>\n",
       "      <td>6315</td>\n",
       "    </tr>\n",
       "    <tr>\n",
       "      <th>2885</th>\n",
       "      <td>ZP00037114</td>\n",
       "      <td>PMB</td>\n",
       "      <td>115</td>\n",
       "    </tr>\n",
       "    <tr>\n",
       "      <th>396</th>\n",
       "      <td>ZJ00046409</td>\n",
       "      <td>PMB</td>\n",
       "      <td>3942</td>\n",
       "    </tr>\n",
       "    <tr>\n",
       "      <th>7526</th>\n",
       "      <td>ZJ00046409</td>\n",
       "      <td>M3</td>\n",
       "      <td>865</td>\n",
       "    </tr>\n",
       "    <tr>\n",
       "      <th>992</th>\n",
       "      <td>ZF00333850</td>\n",
       "      <td>PMB</td>\n",
       "      <td>2105</td>\n",
       "    </tr>\n",
       "    <tr>\n",
       "      <th>1743</th>\n",
       "      <td>ZE00274032</td>\n",
       "      <td>PMB</td>\n",
       "      <td>1966</td>\n",
       "    </tr>\n",
       "    <tr>\n",
       "      <th>3065</th>\n",
       "      <td>YT00137060</td>\n",
       "      <td>PMB</td>\n",
       "      <td>95</td>\n",
       "    </tr>\n",
       "    <tr>\n",
       "      <th>8127</th>\n",
       "      <td>YS00205337</td>\n",
       "      <td>M3</td>\n",
       "      <td>6171</td>\n",
       "    </tr>\n",
       "    <tr>\n",
       "      <th>6520</th>\n",
       "      <td>YS00205337</td>\n",
       "      <td>M2</td>\n",
       "      <td>11660</td>\n",
       "    </tr>\n",
       "    <tr>\n",
       "      <th>2223</th>\n",
       "      <td>YS00205238</td>\n",
       "      <td>PMB</td>\n",
       "      <td>1435</td>\n",
       "    </tr>\n",
       "    <tr>\n",
       "      <th>6462</th>\n",
       "      <td>YP00193974</td>\n",
       "      <td>M2</td>\n",
       "      <td>582</td>\n",
       "    </tr>\n",
       "    <tr>\n",
       "      <th>6010</th>\n",
       "      <td>YP00131780</td>\n",
       "      <td>M2</td>\n",
       "      <td>1014</td>\n",
       "    </tr>\n",
       "    <tr>\n",
       "      <th>4434</th>\n",
       "      <td>YP00131780</td>\n",
       "      <td>M1</td>\n",
       "      <td>1020</td>\n",
       "    </tr>\n",
       "    <tr>\n",
       "      <th>12</th>\n",
       "      <td>YP00093984</td>\n",
       "      <td>PMB</td>\n",
       "      <td>2107</td>\n",
       "    </tr>\n",
       "    <tr>\n",
       "      <th>580</th>\n",
       "      <td>YP00087472</td>\n",
       "      <td>PMB</td>\n",
       "      <td>4280</td>\n",
       "    </tr>\n",
       "  </tbody>\n",
       "</table>\n",
       "</div>"
      ],
      "text/plain": [
       "              Id Product  Amount Owed\n",
       "759   ZZ00120076     PMB         4789\n",
       "582   ZS00064999     PMB         5491\n",
       "7568  ZS00064999      M3         1099\n",
       "5442  ZS00064999      M2        22435\n",
       "4039  ZS00064999      M1        13848\n",
       "2497  ZP00332761     PMB         6315\n",
       "2885  ZP00037114     PMB          115\n",
       "396   ZJ00046409     PMB         3942\n",
       "7526  ZJ00046409      M3          865\n",
       "992   ZF00333850     PMB         2105\n",
       "1743  ZE00274032     PMB         1966\n",
       "3065  YT00137060     PMB           95\n",
       "8127  YS00205337      M3         6171\n",
       "6520  YS00205337      M2        11660\n",
       "2223  YS00205238     PMB         1435\n",
       "6462  YP00193974      M2          582\n",
       "6010  YP00131780      M2         1014\n",
       "4434  YP00131780      M1         1020\n",
       "12    YP00093984     PMB         2107\n",
       "580   YP00087472     PMB         4280"
      ]
     },
     "execution_count": 26,
     "metadata": {},
     "output_type": "execute_result"
    }
   ],
   "source": [
    "creditors.sort_values(by=['Id', 'Product'], ascending=False).head(20)"
   ]
  },
  {
   "cell_type": "code",
   "execution_count": 29,
   "metadata": {},
   "outputs": [
    {
     "data": {
      "text/html": [
       "<div>\n",
       "<style scoped>\n",
       "    .dataframe tbody tr th:only-of-type {\n",
       "        vertical-align: middle;\n",
       "    }\n",
       "\n",
       "    .dataframe tbody tr th {\n",
       "        vertical-align: top;\n",
       "    }\n",
       "\n",
       "    .dataframe thead th {\n",
       "        text-align: right;\n",
       "    }\n",
       "</style>\n",
       "<table border=\"1\" class=\"dataframe\">\n",
       "  <thead>\n",
       "    <tr style=\"text-align: right;\">\n",
       "      <th></th>\n",
       "      <th>Id</th>\n",
       "      <th>Product</th>\n",
       "      <th>Amount Owed</th>\n",
       "    </tr>\n",
       "  </thead>\n",
       "  <tbody>\n",
       "    <tr>\n",
       "      <th>2967</th>\n",
       "      <td>PH00320221</td>\n",
       "      <td>PMB</td>\n",
       "      <td>987029</td>\n",
       "    </tr>\n",
       "    <tr>\n",
       "      <th>3633</th>\n",
       "      <td>NY00223333</td>\n",
       "      <td>PMB</td>\n",
       "      <td>453134</td>\n",
       "    </tr>\n",
       "    <tr>\n",
       "      <th>3673</th>\n",
       "      <td>JH00320210</td>\n",
       "      <td>PMB</td>\n",
       "      <td>354825</td>\n",
       "    </tr>\n",
       "    <tr>\n",
       "      <th>2977</th>\n",
       "      <td>SL00317977</td>\n",
       "      <td>PMB</td>\n",
       "      <td>158019</td>\n",
       "    </tr>\n",
       "    <tr>\n",
       "      <th>3466</th>\n",
       "      <td>TT00323906</td>\n",
       "      <td>PMB</td>\n",
       "      <td>117935</td>\n",
       "    </tr>\n",
       "    <tr>\n",
       "      <th>2012</th>\n",
       "      <td>SP00167860</td>\n",
       "      <td>PMB</td>\n",
       "      <td>98978</td>\n",
       "    </tr>\n",
       "    <tr>\n",
       "      <th>2902</th>\n",
       "      <td>SH00066220</td>\n",
       "      <td>PMB</td>\n",
       "      <td>98698</td>\n",
       "    </tr>\n",
       "    <tr>\n",
       "      <th>574</th>\n",
       "      <td>SM00014905</td>\n",
       "      <td>PMB</td>\n",
       "      <td>91625</td>\n",
       "    </tr>\n",
       "    <tr>\n",
       "      <th>2187</th>\n",
       "      <td>SM00098340</td>\n",
       "      <td>PMB</td>\n",
       "      <td>88394</td>\n",
       "    </tr>\n",
       "    <tr>\n",
       "      <th>2534</th>\n",
       "      <td>MP00333311</td>\n",
       "      <td>PMB</td>\n",
       "      <td>65331</td>\n",
       "    </tr>\n",
       "    <tr>\n",
       "      <th>2064</th>\n",
       "      <td>TM00177892</td>\n",
       "      <td>PMB</td>\n",
       "      <td>57397</td>\n",
       "    </tr>\n",
       "    <tr>\n",
       "      <th>3580</th>\n",
       "      <td>TL00177881</td>\n",
       "      <td>PMB</td>\n",
       "      <td>57397</td>\n",
       "    </tr>\n",
       "    <tr>\n",
       "      <th>1941</th>\n",
       "      <td>RD00165385</td>\n",
       "      <td>PMB</td>\n",
       "      <td>55031</td>\n",
       "    </tr>\n",
       "    <tr>\n",
       "      <th>541</th>\n",
       "      <td>KN00187385</td>\n",
       "      <td>PMB</td>\n",
       "      <td>51416</td>\n",
       "    </tr>\n",
       "    <tr>\n",
       "      <th>1712</th>\n",
       "      <td>AC00177804</td>\n",
       "      <td>PMB</td>\n",
       "      <td>50411</td>\n",
       "    </tr>\n",
       "    <tr>\n",
       "      <th>2760</th>\n",
       "      <td>IB00238546</td>\n",
       "      <td>PMB</td>\n",
       "      <td>49272</td>\n",
       "    </tr>\n",
       "    <tr>\n",
       "      <th>665</th>\n",
       "      <td>JP00071071</td>\n",
       "      <td>PMB</td>\n",
       "      <td>48238</td>\n",
       "    </tr>\n",
       "    <tr>\n",
       "      <th>3675</th>\n",
       "      <td>ML00339900</td>\n",
       "      <td>PMB</td>\n",
       "      <td>47298</td>\n",
       "    </tr>\n",
       "    <tr>\n",
       "      <th>760</th>\n",
       "      <td>AH00078133</td>\n",
       "      <td>PMB</td>\n",
       "      <td>46616</td>\n",
       "    </tr>\n",
       "    <tr>\n",
       "      <th>3739</th>\n",
       "      <td>RP00153670</td>\n",
       "      <td>PMB</td>\n",
       "      <td>43176</td>\n",
       "    </tr>\n",
       "  </tbody>\n",
       "</table>\n",
       "</div>"
      ],
      "text/plain": [
       "              Id Product  Amount Owed\n",
       "2967  PH00320221     PMB       987029\n",
       "3633  NY00223333     PMB       453134\n",
       "3673  JH00320210     PMB       354825\n",
       "2977  SL00317977     PMB       158019\n",
       "3466  TT00323906     PMB       117935\n",
       "2012  SP00167860     PMB        98978\n",
       "2902  SH00066220     PMB        98698\n",
       "574   SM00014905     PMB        91625\n",
       "2187  SM00098340     PMB        88394\n",
       "2534  MP00333311     PMB        65331\n",
       "2064  TM00177892     PMB        57397\n",
       "3580  TL00177881     PMB        57397\n",
       "1941  RD00165385     PMB        55031\n",
       "541   KN00187385     PMB        51416\n",
       "1712  AC00177804     PMB        50411\n",
       "2760  IB00238546     PMB        49272\n",
       "665   JP00071071     PMB        48238\n",
       "3675  ML00339900     PMB        47298\n",
       "760   AH00078133     PMB        46616\n",
       "3739  RP00153670     PMB        43176"
      ]
     },
     "execution_count": 29,
     "metadata": {},
     "output_type": "execute_result"
    }
   ],
   "source": [
    "creditors.sort_values(by=['Product','Amount Owed'], ascending=False).head(20)"
   ]
  },
  {
   "cell_type": "code",
   "execution_count": 76,
   "metadata": {},
   "outputs": [
    {
     "data": {
      "text/html": [
       "<div>\n",
       "<style scoped>\n",
       "    .dataframe tbody tr th:only-of-type {\n",
       "        vertical-align: middle;\n",
       "    }\n",
       "\n",
       "    .dataframe tbody tr th {\n",
       "        vertical-align: top;\n",
       "    }\n",
       "\n",
       "    .dataframe thead th {\n",
       "        text-align: right;\n",
       "    }\n",
       "</style>\n",
       "<table border=\"1\" class=\"dataframe\">\n",
       "  <thead>\n",
       "    <tr style=\"text-align: right;\">\n",
       "      <th></th>\n",
       "      <th>Id</th>\n",
       "      <th>Product</th>\n",
       "      <th>Amount Owed</th>\n",
       "    </tr>\n",
       "  </thead>\n",
       "  <tbody>\n",
       "    <tr>\n",
       "      <th>2967</th>\n",
       "      <td>PH00320221</td>\n",
       "      <td>PMB</td>\n",
       "      <td>987029</td>\n",
       "    </tr>\n",
       "    <tr>\n",
       "      <th>3633</th>\n",
       "      <td>NY00223333</td>\n",
       "      <td>PMB</td>\n",
       "      <td>453134</td>\n",
       "    </tr>\n",
       "    <tr>\n",
       "      <th>6916</th>\n",
       "      <td>MB00271623</td>\n",
       "      <td>M2</td>\n",
       "      <td>417217</td>\n",
       "    </tr>\n",
       "    <tr>\n",
       "      <th>3673</th>\n",
       "      <td>JH00320210</td>\n",
       "      <td>PMB</td>\n",
       "      <td>354825</td>\n",
       "    </tr>\n",
       "    <tr>\n",
       "      <th>5983</th>\n",
       "      <td>JK00128689</td>\n",
       "      <td>M2</td>\n",
       "      <td>308262</td>\n",
       "    </tr>\n",
       "    <tr>\n",
       "      <th>4575</th>\n",
       "      <td>DR00100166</td>\n",
       "      <td>M1</td>\n",
       "      <td>225419</td>\n",
       "    </tr>\n",
       "    <tr>\n",
       "      <th>5988</th>\n",
       "      <td>RP00129019</td>\n",
       "      <td>M2</td>\n",
       "      <td>199603</td>\n",
       "    </tr>\n",
       "    <tr>\n",
       "      <th>7257</th>\n",
       "      <td>ES00309870</td>\n",
       "      <td>M2</td>\n",
       "      <td>196634</td>\n",
       "    </tr>\n",
       "    <tr>\n",
       "      <th>4829</th>\n",
       "      <td>SH00066220</td>\n",
       "      <td>M1</td>\n",
       "      <td>179019</td>\n",
       "    </tr>\n",
       "    <tr>\n",
       "      <th>2977</th>\n",
       "      <td>SL00317977</td>\n",
       "      <td>PMB</td>\n",
       "      <td>158019</td>\n",
       "    </tr>\n",
       "    <tr>\n",
       "      <th>4585</th>\n",
       "      <td>DT00179949</td>\n",
       "      <td>M1</td>\n",
       "      <td>154134</td>\n",
       "    </tr>\n",
       "    <tr>\n",
       "      <th>7374</th>\n",
       "      <td>KP00319913</td>\n",
       "      <td>M2</td>\n",
       "      <td>150511</td>\n",
       "    </tr>\n",
       "    <tr>\n",
       "      <th>4998</th>\n",
       "      <td>PR00012804</td>\n",
       "      <td>M2</td>\n",
       "      <td>146819</td>\n",
       "    </tr>\n",
       "    <tr>\n",
       "      <th>5084</th>\n",
       "      <td>VM00022737</td>\n",
       "      <td>M2</td>\n",
       "      <td>138927</td>\n",
       "    </tr>\n",
       "    <tr>\n",
       "      <th>5225</th>\n",
       "      <td>AC00038907</td>\n",
       "      <td>M2</td>\n",
       "      <td>132655</td>\n",
       "    </tr>\n",
       "    <tr>\n",
       "      <th>4937</th>\n",
       "      <td>AN00171391</td>\n",
       "      <td>M1</td>\n",
       "      <td>130658</td>\n",
       "    </tr>\n",
       "    <tr>\n",
       "      <th>4489</th>\n",
       "      <td>DG00139579</td>\n",
       "      <td>M1</td>\n",
       "      <td>124200</td>\n",
       "    </tr>\n",
       "    <tr>\n",
       "      <th>6457</th>\n",
       "      <td>JT00192819</td>\n",
       "      <td>M2</td>\n",
       "      <td>123452</td>\n",
       "    </tr>\n",
       "    <tr>\n",
       "      <th>6601</th>\n",
       "      <td>PJ00221463</td>\n",
       "      <td>M2</td>\n",
       "      <td>119589</td>\n",
       "    </tr>\n",
       "    <tr>\n",
       "      <th>3466</th>\n",
       "      <td>TT00323906</td>\n",
       "      <td>PMB</td>\n",
       "      <td>117935</td>\n",
       "    </tr>\n",
       "  </tbody>\n",
       "</table>\n",
       "</div>"
      ],
      "text/plain": [
       "              Id Product  Amount Owed\n",
       "2967  PH00320221     PMB       987029\n",
       "3633  NY00223333     PMB       453134\n",
       "6916  MB00271623      M2       417217\n",
       "3673  JH00320210     PMB       354825\n",
       "5983  JK00128689      M2       308262\n",
       "4575  DR00100166      M1       225419\n",
       "5988  RP00129019      M2       199603\n",
       "7257  ES00309870      M2       196634\n",
       "4829  SH00066220      M1       179019\n",
       "2977  SL00317977     PMB       158019\n",
       "4585  DT00179949      M1       154134\n",
       "7374  KP00319913      M2       150511\n",
       "4998  PR00012804      M2       146819\n",
       "5084  VM00022737      M2       138927\n",
       "5225  AC00038907      M2       132655\n",
       "4937  AN00171391      M1       130658\n",
       "4489  DG00139579      M1       124200\n",
       "6457  JT00192819      M2       123452\n",
       "6601  PJ00221463      M2       119589\n",
       "3466  TT00323906     PMB       117935"
      ]
     },
     "execution_count": 76,
     "metadata": {},
     "output_type": "execute_result"
    }
   ],
   "source": [
    "creditors.sort_values(by=['Amount Owed'], ascending=False).head(20)"
   ]
  },
  {
   "cell_type": "code",
   "execution_count": 31,
   "metadata": {},
   "outputs": [
    {
     "data": {
      "text/plain": [
       "Product\n",
       "M1     1214\n",
       "M2     2415\n",
       "M3     1074\n",
       "PMB    3770\n",
       "Name: Amount Owed, dtype: int64"
      ]
     },
     "execution_count": 31,
     "metadata": {},
     "output_type": "execute_result"
    }
   ],
   "source": [
    "creditors.groupby(\"Product\")[\"Amount Owed\"].count()"
   ]
  },
  {
   "cell_type": "code",
   "execution_count": 37,
   "metadata": {},
   "outputs": [
    {
     "data": {
      "text/plain": [
       "Id          Product\n",
       "*M00119251  M2           567\n",
       "AA00014883  M2         13830\n",
       "AA00038753  PMB         2343\n",
       "AA00038995  PMB          849\n",
       "AA00050072  M1          1010\n",
       "                       ...  \n",
       "ZS00064999  M1         13848\n",
       "            M2         22435\n",
       "            M3          1099\n",
       "            PMB         5491\n",
       "ZZ00120076  PMB         4789\n",
       "Name: Amount Owed, Length: 8473, dtype: int64"
      ]
     },
     "execution_count": 37,
     "metadata": {},
     "output_type": "execute_result"
    }
   ],
   "source": [
    "creditors.groupby([\"Id\", \"Product\"])[\"Amount Owed\"].sum()"
   ]
  },
  {
   "cell_type": "code",
   "execution_count": 40,
   "metadata": {},
   "outputs": [
    {
     "data": {
      "text/plain": [
       "62349367"
      ]
     },
     "execution_count": 40,
     "metadata": {},
     "output_type": "execute_result"
    }
   ],
   "source": [
    "creditors['Amount Owed'].sum()"
   ]
  },
  {
   "cell_type": "code",
   "execution_count": 38,
   "metadata": {},
   "outputs": [
    {
     "data": {
      "text/plain": [
       "7358.594004484834"
      ]
     },
     "execution_count": 38,
     "metadata": {},
     "output_type": "execute_result"
    }
   ],
   "source": [
    "creditors['Amount Owed'].mean()"
   ]
  },
  {
   "cell_type": "code",
   "execution_count": 39,
   "metadata": {},
   "outputs": [
    {
     "data": {
      "text/plain": [
       "3182.0"
      ]
     },
     "execution_count": 39,
     "metadata": {},
     "output_type": "execute_result"
    }
   ],
   "source": [
    "creditors['Amount Owed'].median()"
   ]
  },
  {
   "cell_type": "code",
   "execution_count": 41,
   "metadata": {},
   "outputs": [
    {
     "data": {
      "text/plain": [
       "count      8473.000000\n",
       "mean       7358.594004\n",
       "std       18520.932370\n",
       "min          39.000000\n",
       "25%        1485.000000\n",
       "50%        3182.000000\n",
       "75%        7388.000000\n",
       "max      987029.000000\n",
       "Name: Amount Owed, dtype: float64"
      ]
     },
     "execution_count": 41,
     "metadata": {},
     "output_type": "execute_result"
    }
   ],
   "source": [
    "creditors['Amount Owed'].describe()"
   ]
  },
  {
   "cell_type": "code",
   "execution_count": 42,
   "metadata": {},
   "outputs": [
    {
     "data": {
      "text/plain": [
       "count      8473.000000\n",
       "mean       7358.594004\n",
       "std       18520.932370\n",
       "min          39.000000\n",
       "10%         362.000000\n",
       "30%        1972.000000\n",
       "50%        3182.000000\n",
       "65%        5163.600000\n",
       "80%       10065.600000\n",
       "max      987029.000000\n",
       "Name: Amount Owed, dtype: float64"
      ]
     },
     "execution_count": 42,
     "metadata": {},
     "output_type": "execute_result"
    }
   ],
   "source": [
    "creditors['Amount Owed'].describe(percentiles=[0.1,0.3,0.65,0.8])"
   ]
  },
  {
   "cell_type": "code",
   "execution_count": 43,
   "metadata": {},
   "outputs": [
    {
     "data": {
      "text/plain": [
       "0    2108\n",
       "dtype: int64"
      ]
     },
     "execution_count": 43,
     "metadata": {},
     "output_type": "execute_result"
    }
   ],
   "source": [
    "creditors['Amount Owed'].mode()"
   ]
  },
  {
   "cell_type": "code",
   "execution_count": 46,
   "metadata": {},
   "outputs": [
    {
     "data": {
      "text/plain": [
       "1374    39\n",
       "1725    39\n",
       "1744    39\n",
       "1987    39\n",
       "2210    39\n",
       "2294    39\n",
       "2939    39\n",
       "3475    39\n",
       "3631    39\n",
       "1235    40\n",
       "Name: Amount Owed, dtype: int64"
      ]
     },
     "execution_count": 46,
     "metadata": {},
     "output_type": "execute_result"
    }
   ],
   "source": [
    "creditors['Amount Owed'].nsmallest(10)"
   ]
  },
  {
   "cell_type": "code",
   "execution_count": 68,
   "metadata": {},
   "outputs": [
    {
     "data": {
      "text/plain": [
       "2967    987029\n",
       "3633    453134\n",
       "6916    417217\n",
       "3673    354825\n",
       "5983    308262\n",
       "4575    225419\n",
       "5988    199603\n",
       "7257    196634\n",
       "4829    179019\n",
       "2977    158019\n",
       "4585    154134\n",
       "7374    150511\n",
       "4998    146819\n",
       "5084    138927\n",
       "5225    132655\n",
       "4937    130658\n",
       "4489    124200\n",
       "6457    123452\n",
       "6601    119589\n",
       "3466    117935\n",
       "Name: Amount Owed, dtype: int64"
      ]
     },
     "execution_count": 68,
     "metadata": {},
     "output_type": "execute_result"
    }
   ],
   "source": [
    "creditors['Amount Owed'].nlargest(20)"
   ]
  },
  {
   "cell_type": "code",
   "execution_count": 70,
   "metadata": {},
   "outputs": [],
   "source": [
    "indexes = creditors['Amount Owed'].nlargest(20).index"
   ]
  },
  {
   "cell_type": "code",
   "execution_count": 64,
   "metadata": {},
   "outputs": [
    {
     "data": {
      "text/plain": [
       "Id             TT00323906\n",
       "Product               PMB\n",
       "Amount Owed        117935\n",
       "Name: 3466, dtype: object"
      ]
     },
     "execution_count": 64,
     "metadata": {},
     "output_type": "execute_result"
    }
   ],
   "source": [
    "creditors.iloc[3466]"
   ]
  },
  {
   "cell_type": "code",
   "execution_count": 72,
   "metadata": {},
   "outputs": [],
   "source": [
    "top_twenty = []"
   ]
  },
  {
   "cell_type": "code",
   "execution_count": 74,
   "metadata": {},
   "outputs": [],
   "source": [
    "for i in indexes:\n",
    "    top_twenty.append(creditors.iloc[i])"
   ]
  },
  {
   "cell_type": "code",
   "execution_count": 75,
   "metadata": {},
   "outputs": [
    {
     "data": {
      "text/html": [
       "<div>\n",
       "<style scoped>\n",
       "    .dataframe tbody tr th:only-of-type {\n",
       "        vertical-align: middle;\n",
       "    }\n",
       "\n",
       "    .dataframe tbody tr th {\n",
       "        vertical-align: top;\n",
       "    }\n",
       "\n",
       "    .dataframe thead th {\n",
       "        text-align: right;\n",
       "    }\n",
       "</style>\n",
       "<table border=\"1\" class=\"dataframe\">\n",
       "  <thead>\n",
       "    <tr style=\"text-align: right;\">\n",
       "      <th></th>\n",
       "      <th>Id</th>\n",
       "      <th>Product</th>\n",
       "      <th>Amount Owed</th>\n",
       "    </tr>\n",
       "  </thead>\n",
       "  <tbody>\n",
       "    <tr>\n",
       "      <th>2967</th>\n",
       "      <td>PH00320221</td>\n",
       "      <td>PMB</td>\n",
       "      <td>987029</td>\n",
       "    </tr>\n",
       "    <tr>\n",
       "      <th>3633</th>\n",
       "      <td>NY00223333</td>\n",
       "      <td>PMB</td>\n",
       "      <td>453134</td>\n",
       "    </tr>\n",
       "    <tr>\n",
       "      <th>6916</th>\n",
       "      <td>MB00271623</td>\n",
       "      <td>M2</td>\n",
       "      <td>417217</td>\n",
       "    </tr>\n",
       "    <tr>\n",
       "      <th>3673</th>\n",
       "      <td>JH00320210</td>\n",
       "      <td>PMB</td>\n",
       "      <td>354825</td>\n",
       "    </tr>\n",
       "    <tr>\n",
       "      <th>5983</th>\n",
       "      <td>JK00128689</td>\n",
       "      <td>M2</td>\n",
       "      <td>308262</td>\n",
       "    </tr>\n",
       "    <tr>\n",
       "      <th>4575</th>\n",
       "      <td>DR00100166</td>\n",
       "      <td>M1</td>\n",
       "      <td>225419</td>\n",
       "    </tr>\n",
       "    <tr>\n",
       "      <th>5988</th>\n",
       "      <td>RP00129019</td>\n",
       "      <td>M2</td>\n",
       "      <td>199603</td>\n",
       "    </tr>\n",
       "    <tr>\n",
       "      <th>7257</th>\n",
       "      <td>ES00309870</td>\n",
       "      <td>M2</td>\n",
       "      <td>196634</td>\n",
       "    </tr>\n",
       "    <tr>\n",
       "      <th>4829</th>\n",
       "      <td>SH00066220</td>\n",
       "      <td>M1</td>\n",
       "      <td>179019</td>\n",
       "    </tr>\n",
       "    <tr>\n",
       "      <th>2977</th>\n",
       "      <td>SL00317977</td>\n",
       "      <td>PMB</td>\n",
       "      <td>158019</td>\n",
       "    </tr>\n",
       "    <tr>\n",
       "      <th>4585</th>\n",
       "      <td>DT00179949</td>\n",
       "      <td>M1</td>\n",
       "      <td>154134</td>\n",
       "    </tr>\n",
       "    <tr>\n",
       "      <th>7374</th>\n",
       "      <td>KP00319913</td>\n",
       "      <td>M2</td>\n",
       "      <td>150511</td>\n",
       "    </tr>\n",
       "    <tr>\n",
       "      <th>4998</th>\n",
       "      <td>PR00012804</td>\n",
       "      <td>M2</td>\n",
       "      <td>146819</td>\n",
       "    </tr>\n",
       "    <tr>\n",
       "      <th>5084</th>\n",
       "      <td>VM00022737</td>\n",
       "      <td>M2</td>\n",
       "      <td>138927</td>\n",
       "    </tr>\n",
       "    <tr>\n",
       "      <th>5225</th>\n",
       "      <td>AC00038907</td>\n",
       "      <td>M2</td>\n",
       "      <td>132655</td>\n",
       "    </tr>\n",
       "    <tr>\n",
       "      <th>4937</th>\n",
       "      <td>AN00171391</td>\n",
       "      <td>M1</td>\n",
       "      <td>130658</td>\n",
       "    </tr>\n",
       "    <tr>\n",
       "      <th>4489</th>\n",
       "      <td>DG00139579</td>\n",
       "      <td>M1</td>\n",
       "      <td>124200</td>\n",
       "    </tr>\n",
       "    <tr>\n",
       "      <th>6457</th>\n",
       "      <td>JT00192819</td>\n",
       "      <td>M2</td>\n",
       "      <td>123452</td>\n",
       "    </tr>\n",
       "    <tr>\n",
       "      <th>6601</th>\n",
       "      <td>PJ00221463</td>\n",
       "      <td>M2</td>\n",
       "      <td>119589</td>\n",
       "    </tr>\n",
       "    <tr>\n",
       "      <th>3466</th>\n",
       "      <td>TT00323906</td>\n",
       "      <td>PMB</td>\n",
       "      <td>117935</td>\n",
       "    </tr>\n",
       "  </tbody>\n",
       "</table>\n",
       "</div>"
      ],
      "text/plain": [
       "              Id Product  Amount Owed\n",
       "2967  PH00320221     PMB       987029\n",
       "3633  NY00223333     PMB       453134\n",
       "6916  MB00271623      M2       417217\n",
       "3673  JH00320210     PMB       354825\n",
       "5983  JK00128689      M2       308262\n",
       "4575  DR00100166      M1       225419\n",
       "5988  RP00129019      M2       199603\n",
       "7257  ES00309870      M2       196634\n",
       "4829  SH00066220      M1       179019\n",
       "2977  SL00317977     PMB       158019\n",
       "4585  DT00179949      M1       154134\n",
       "7374  KP00319913      M2       150511\n",
       "4998  PR00012804      M2       146819\n",
       "5084  VM00022737      M2       138927\n",
       "5225  AC00038907      M2       132655\n",
       "4937  AN00171391      M1       130658\n",
       "4489  DG00139579      M1       124200\n",
       "6457  JT00192819      M2       123452\n",
       "6601  PJ00221463      M2       119589\n",
       "3466  TT00323906     PMB       117935"
      ]
     },
     "execution_count": 75,
     "metadata": {},
     "output_type": "execute_result"
    }
   ],
   "source": [
    "pd.DataFrame(top_twenty)"
   ]
  },
  {
   "cell_type": "code",
   "execution_count": 50,
   "metadata": {},
   "outputs": [
    {
     "data": {
      "text/plain": [
       "5975"
      ]
     },
     "execution_count": 50,
     "metadata": {},
     "output_type": "execute_result"
    }
   ],
   "source": [
    "len(creditors['Id'].unique())"
   ]
  },
  {
   "cell_type": "code",
   "execution_count": 51,
   "metadata": {},
   "outputs": [
    {
     "data": {
      "text/plain": [
       "4"
      ]
     },
     "execution_count": 51,
     "metadata": {},
     "output_type": "execute_result"
    }
   ],
   "source": [
    "len(creditors['Product'].unique())"
   ]
  },
  {
   "cell_type": "code",
   "execution_count": 52,
   "metadata": {},
   "outputs": [
    {
     "data": {
      "text/plain": [
       "4962"
      ]
     },
     "execution_count": 52,
     "metadata": {},
     "output_type": "execute_result"
    }
   ],
   "source": [
    "len(creditors['Amount Owed'].unique())"
   ]
  },
  {
   "cell_type": "code",
   "execution_count": 53,
   "metadata": {},
   "outputs": [
    {
     "data": {
      "text/plain": [
       "8473"
      ]
     },
     "execution_count": 53,
     "metadata": {},
     "output_type": "execute_result"
    }
   ],
   "source": [
    "creditors['Amount Owed'].count()"
   ]
  },
  {
   "cell_type": "code",
   "execution_count": null,
   "metadata": {},
   "outputs": [],
   "source": []
  }
 ],
 "metadata": {
  "kernelspec": {
   "display_name": "nlpenv",
   "language": "python",
   "name": "nlpenv"
  },
  "language_info": {
   "codemirror_mode": {
    "name": "ipython",
    "version": 3
   },
   "file_extension": ".py",
   "mimetype": "text/x-python",
   "name": "python",
   "nbconvert_exporter": "python",
   "pygments_lexer": "ipython3",
   "version": "3.8.5"
  }
 },
 "nbformat": 4,
 "nbformat_minor": 4
}
